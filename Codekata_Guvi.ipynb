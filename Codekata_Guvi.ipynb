{
  "nbformat": 4,
  "nbformat_minor": 0,
  "metadata": {
    "colab": {
      "provenance": [],
      "authorship_tag": "ABX9TyPtop+Xd5CNhMpbwFDNZJXl",
      "include_colab_link": true
    },
    "kernelspec": {
      "name": "python3",
      "display_name": "Python 3"
    },
    "language_info": {
      "name": "python"
    }
  },
  "cells": [
    {
      "cell_type": "markdown",
      "metadata": {
        "id": "view-in-github",
        "colab_type": "text"
      },
      "source": [
        "<a href=\"https://colab.research.google.com/github/VembuVinodini/Programming-fles/blob/main/Codekata_Guvi.ipynb\" target=\"_parent\"><img src=\"https://colab.research.google.com/assets/colab-badge.svg\" alt=\"Open In Colab\"/></a>"
      ]
    },
    {
      "cell_type": "markdown",
      "source": [
        " **Input/Output**"
      ],
      "metadata": {
        "id": "EVVVSBbXdlgy"
      }
    },
    {
      "cell_type": "code",
      "source": [
        "A=int(input())\n",
        "print(A)"
      ],
      "metadata": {
        "colab": {
          "base_uri": "https://localhost:8080/"
        },
        "id": "l3c83MxZdt9n",
        "outputId": "75682502-8511-4573-b086-b21bd88cdd70"
      },
      "execution_count": null,
      "outputs": [
        {
          "output_type": "stream",
          "name": "stdout",
          "text": [
            "2\n",
            "2\n"
          ]
        }
      ]
    },
    {
      "cell_type": "code",
      "source": [
        "# A= input().split(' ')\n",
        "# B= [int(c) for c in A ]\n",
        "# print(*B)\n",
        "\n",
        "ui = input().split()\n",
        "A = list(map(int,ui))\n",
        "print(*A)"
      ],
      "metadata": {
        "colab": {
          "base_uri": "https://localhost:8080/"
        },
        "id": "-hKG7DmzeMRA",
        "outputId": "d069a478-c473-432c-dbd4-c9719440b982"
      },
      "execution_count": null,
      "outputs": [
        {
          "output_type": "stream",
          "name": "stdout",
          "text": [
            "2 3 4 5 6 7 8\n",
            "2 3 4 5 6 7 8\n"
          ]
        }
      ]
    },
    {
      "cell_type": "code",
      "source": [
        "# input_values = input().split()\n",
        "# n = int(input_values[0])\n",
        "# m = int(input_values[1])\n",
        "\n",
        "# elements = input().split()\n",
        "\n",
        "\n",
        "# print(n, m)\n",
        "# print(*elements)\n",
        "\n",
        "A = input().split(\" \")\n",
        "B = input().split(\" \")\n",
        "\n",
        "C = list(map(int,A))\n",
        "D = list(map(int,B))\n",
        "print(*C)\n",
        "print(*D)"
      ],
      "metadata": {
        "colab": {
          "base_uri": "https://localhost:8080/"
        },
        "id": "_4vP3eBlegGY",
        "outputId": "1125cd87-b17d-4f06-854c-9f1e070ed90d"
      },
      "execution_count": null,
      "outputs": [
        {
          "output_type": "stream",
          "name": "stdout",
          "text": [
            "5 3\n",
            "1 2 3 4 5\n",
            "5 3\n",
            "1 2 3 4 5\n"
          ]
        }
      ]
    },
    {
      "cell_type": "code",
      "source": [
        "A = input().split(\" \")\n",
        "B = input().split(\" \")\n",
        "E = input().split(\" \")\n",
        "\n",
        "C = list(map(int,A))\n",
        "D = list(map(int,B))\n",
        "F = list(map(int,E))\n",
        "print(*C)\n",
        "print(*D)\n",
        "print(*F)"
      ],
      "metadata": {
        "colab": {
          "base_uri": "https://localhost:8080/"
        },
        "id": "88cwzuA9enZX",
        "outputId": "2876b95f-223a-4adc-a200-c6d32ba95d5f"
      },
      "execution_count": null,
      "outputs": [
        {
          "output_type": "stream",
          "name": "stdout",
          "text": [
            "2 3\n",
            "2 3\n",
            "2 3\n",
            "2 3\n",
            "2 3\n",
            "2 3\n"
          ]
        }
      ]
    },
    {
      "cell_type": "markdown",
      "source": [],
      "metadata": {
        "id": "rmwUWIjAPBWR"
      }
    },
    {
      "cell_type": "code",
      "source": [
        "a = int(input())\n",
        "b = int(input())\n",
        "c = int(input())\n",
        "print(a,b,c)"
      ],
      "metadata": {
        "colab": {
          "base_uri": "https://localhost:8080/"
        },
        "id": "MwEnC1Q5e-Ya",
        "outputId": "08400db6-cbfe-4e27-b8ad-771f9a1108e1"
      },
      "execution_count": null,
      "outputs": [
        {
          "output_type": "stream",
          "name": "stdout",
          "text": [
            "3\n",
            "4\n",
            "5\n",
            "3 4 5\n"
          ]
        }
      ]
    },
    {
      "cell_type": "code",
      "source": [
        "A = input().split(\" \")\n",
        "B = input().split(\" \")\n",
        "E = input().split(\" \")\n",
        "\n",
        "C = list(map(int,A))\n",
        "D = list(map(int,B))\n",
        "F = list(map(int,E))\n",
        "print(*C)\n",
        "print(*D)\n",
        "print(*F)"
      ],
      "metadata": {
        "colab": {
          "base_uri": "https://localhost:8080/"
        },
        "id": "raHoukqxfC9w",
        "outputId": "2e34d4b5-a1b4-4c70-c600-dd031c659ab7"
      },
      "execution_count": null,
      "outputs": [
        {
          "output_type": "stream",
          "name": "stdout",
          "text": [
            "2 5\n",
            "2 5 6\n",
            "2 4 5\n",
            "2 5\n",
            "2 5 6\n",
            "2 4 5\n"
          ]
        }
      ]
    },
    {
      "cell_type": "code",
      "source": [
        "a = input()\n",
        "print(*a)"
      ],
      "metadata": {
        "colab": {
          "base_uri": "https://localhost:8080/"
        },
        "id": "b8er803qfKF7",
        "outputId": "72a30a05-c007-4e67-8d9b-7dc03c86e3b8"
      },
      "execution_count": null,
      "outputs": [
        {
          "output_type": "stream",
          "name": "stdout",
          "text": [
            "guvi\n",
            "g u v i\n"
          ]
        }
      ]
    },
    {
      "cell_type": "code",
      "source": [
        "ui = input()\n",
        "code = (float(f)for f in ui.split(\" \"))\n",
        "for f in code :\n",
        "  print(f)"
      ],
      "metadata": {
        "colab": {
          "base_uri": "https://localhost:8080/"
        },
        "id": "dFqMT62vfPrO",
        "outputId": "6829ef94-1224-4651-f3f0-b1c0c7e3b41a"
      },
      "execution_count": null,
      "outputs": [
        {
          "output_type": "stream",
          "name": "stdout",
          "text": [
            "2.3 4.5 7.8\n",
            "2.3\n",
            "4.5\n",
            "7.8\n"
          ]
        }
      ]
    },
    {
      "cell_type": "code",
      "source": [
        "user = input()\n",
        "code = (str(m)for m in user)\n",
        "for f in code :\n",
        "  print(f)"
      ],
      "metadata": {
        "colab": {
          "base_uri": "https://localhost:8080/"
        },
        "id": "4pwLTrjJfKJF",
        "outputId": "89f32695-707a-462d-f959-c5965284a694"
      },
      "execution_count": null,
      "outputs": [
        {
          "output_type": "stream",
          "name": "stdout",
          "text": [
            "guvigeek\n",
            "g\n",
            "u\n",
            "v\n",
            "i\n",
            "g\n",
            "e\n",
            "e\n",
            "k\n"
          ]
        }
      ]
    },
    {
      "cell_type": "code",
      "source": [
        "s = input()\n",
        "print(\",\".join(s))"
      ],
      "metadata": {
        "colab": {
          "base_uri": "https://localhost:8080/"
        },
        "id": "JtcZTUqAfhA6",
        "outputId": "72a99259-57cf-437c-9c41-643c9179b4f1"
      },
      "execution_count": null,
      "outputs": [
        {
          "output_type": "stream",
          "name": "stdout",
          "text": [
            "guvi\n",
            "g,u,v,i\n"
          ]
        }
      ]
    },
    {
      "cell_type": "markdown",
      "source": [
        "**Absolute Beginner**"
      ],
      "metadata": {
        "id": "jCzsFsrpfhau"
      }
    },
    {
      "cell_type": "code",
      "source": [],
      "metadata": {
        "id": "DTwtTe94PQVB"
      },
      "execution_count": null,
      "outputs": []
    },
    {
      "cell_type": "code",
      "source": [],
      "metadata": {
        "id": "9WEl7zvcPQRz"
      },
      "execution_count": null,
      "outputs": []
    },
    {
      "cell_type": "code",
      "source": [],
      "metadata": {
        "id": "l-90Vw0yPQOe"
      },
      "execution_count": null,
      "outputs": []
    },
    {
      "cell_type": "code",
      "source": [],
      "metadata": {
        "id": "g4CJgIH8PQLg"
      },
      "execution_count": null,
      "outputs": []
    },
    {
      "cell_type": "markdown",
      "source": [
        "# Strings"
      ],
      "metadata": {
        "id": "BjHG7ZzmPbMi"
      }
    },
    {
      "cell_type": "code",
      "source": [
        "# 1\n",
        "x, y = list(map(int, input().split()))\n",
        "m= x*y\n",
        "print(m)"
      ],
      "metadata": {
        "id": "_f1ywXpyPhRF"
      },
      "execution_count": null,
      "outputs": []
    },
    {
      "cell_type": "code",
      "source": [
        "# 2\n",
        "s = input()\n",
        "\n",
        "w = \"\"\n",
        "for i in s:\n",
        "    w = i + w\n",
        "\n",
        "if (s == w):\n",
        "    print(1)\n",
        "\n",
        "else:\n",
        "    print(0)"
      ],
      "metadata": {
        "id": "OSOb2kXJPhNL"
      },
      "execution_count": null,
      "outputs": []
    },
    {
      "cell_type": "code",
      "source": [
        "# 3\n",
        "import re\n",
        "def Check_Vow(string, vowels):\n",
        "    str_list = re.findall(f'[{vowels}]', string, re.I)\n",
        "\n",
        "\n",
        "vowels = 'aeiou'\n",
        "string = input()\n",
        "str_list = re.findall(f'[{vowels}]', string, re.I)\n",
        "\n",
        "if (len(str_list)) > 0 :\n",
        "    print('yes')\n",
        "else :\n",
        "    print('no')"
      ],
      "metadata": {
        "id": "wV84DPiyPhJw"
      },
      "execution_count": null,
      "outputs": []
    },
    {
      "cell_type": "code",
      "source": [
        "# 5\n",
        "s = input()[::-1]\n",
        "print(s.capitalize())a"
      ],
      "metadata": {
        "id": "RpIWwS0mPyHa"
      },
      "execution_count": null,
      "outputs": []
    },
    {
      "cell_type": "markdown",
      "source": [
        "# Strings"
      ],
      "metadata": {
        "id": "K8jfp8awhVfe"
      }
    },
    {
      "cell_type": "code",
      "source": [
        "# 1\n",
        "a = input().split(' ')\n",
        "print(min(a))"
      ],
      "metadata": {
        "colab": {
          "base_uri": "https://localhost:8080/"
        },
        "id": "MqlXob4HPyER",
        "outputId": "42f2316f-ed18-4d5b-fab3-b904174a3350"
      },
      "execution_count": null,
      "outputs": [
        {
          "output_type": "stream",
          "name": "stdout",
          "text": [
            "3 4 5 2 1 0\n",
            "0\n"
          ]
        }
      ]
    },
    {
      "cell_type": "code",
      "source": [
        "a = int(input())\n",
        "# for i in a:\n",
        "if a in int :\n",
        "  print('yes')\n",
        "else:\n",
        "  print('no')\n"
      ],
      "metadata": {
        "colab": {
          "base_uri": "https://localhost:8080/",
          "height": 245
        },
        "id": "HzaWBllBh8B8",
        "outputId": "d3748296-4441-4915-e3e7-4632aacb23c4"
      },
      "execution_count": null,
      "outputs": [
        {
          "name": "stdout",
          "output_type": "stream",
          "text": [
            "67\n"
          ]
        },
        {
          "output_type": "error",
          "ename": "TypeError",
          "evalue": "ignored",
          "traceback": [
            "\u001b[0;31m---------------------------------------------------------------------------\u001b[0m",
            "\u001b[0;31mTypeError\u001b[0m                                 Traceback (most recent call last)",
            "\u001b[0;32m<ipython-input-44-617ea30ff37c>\u001b[0m in \u001b[0;36m<cell line: 3>\u001b[0;34m()\u001b[0m\n\u001b[1;32m      1\u001b[0m \u001b[0ma\u001b[0m \u001b[0;34m=\u001b[0m \u001b[0mint\u001b[0m\u001b[0;34m(\u001b[0m\u001b[0minput\u001b[0m\u001b[0;34m(\u001b[0m\u001b[0;34m)\u001b[0m\u001b[0;34m)\u001b[0m\u001b[0;34m\u001b[0m\u001b[0;34m\u001b[0m\u001b[0m\n\u001b[1;32m      2\u001b[0m \u001b[0;31m# for i in a:\u001b[0m\u001b[0;34m\u001b[0m\u001b[0;34m\u001b[0m\u001b[0m\n\u001b[0;32m----> 3\u001b[0;31m \u001b[0;32mif\u001b[0m \u001b[0ma\u001b[0m \u001b[0;32min\u001b[0m \u001b[0mint\u001b[0m \u001b[0;34m:\u001b[0m\u001b[0;34m\u001b[0m\u001b[0;34m\u001b[0m\u001b[0m\n\u001b[0m\u001b[1;32m      4\u001b[0m   \u001b[0mprint\u001b[0m\u001b[0;34m(\u001b[0m\u001b[0;34m'yes'\u001b[0m\u001b[0;34m)\u001b[0m\u001b[0;34m\u001b[0m\u001b[0;34m\u001b[0m\u001b[0m\n",
            "\u001b[0;31mTypeError\u001b[0m: argument of type 'type' is not iterable"
          ]
        }
      ]
    },
    {
      "cell_type": "markdown",
      "source": [],
      "metadata": {
        "id": "gV68I8a7rFUm"
      }
    },
    {
      "cell_type": "code",
      "source": [
        "b,h = map(int,input().split())\n",
        "a = (b*h)/2\n",
        "print(a)"
      ],
      "metadata": {
        "colab": {
          "base_uri": "https://localhost:8080/"
        },
        "id": "GTyTktDDmLP8",
        "outputId": "e99cef7f-b91a-4ae7-9d97-a156b19f4bd1"
      },
      "execution_count": null,
      "outputs": [
        {
          "output_type": "stream",
          "name": "stdout",
          "text": [
            "5 6\n",
            "15.0\n"
          ]
        }
      ]
    },
    {
      "cell_type": "code",
      "source": [
        "import math\n",
        "def isPerfectSquare(x):\n",
        "\n",
        "    #if x >= 0,\n",
        "    if(x >= 0):\n",
        "        sr = int(math.sqrt(x))\n",
        "        # sqrt function returns floating value so we have to convert it into integer\n",
        "        #return boolean T/F\n",
        "        return ((sr*sr) == x)\n",
        "    return false\n",
        "\n",
        "# Driver code\n",
        "\n",
        "\n",
        "x = int(input())\n",
        "if (isPerfectSquare(x)):\n",
        "    print(\"Yes\")\n",
        "else:\n",
        "    print(\"No\")"
      ],
      "metadata": {
        "colab": {
          "base_uri": "https://localhost:8080/"
        },
        "id": "n1j90V0Kieon",
        "outputId": "cc2a0201-8821-417a-819a-3470decb1f69"
      },
      "execution_count": null,
      "outputs": [
        {
          "output_type": "stream",
          "name": "stdout",
          "text": [
            "25\n",
            "Yes\n"
          ]
        }
      ]
    },
    {
      "cell_type": "code",
      "source": [
        "import math\n",
        "x,y = map(int,input().split())\n",
        "def isPerfectSquare(y,x):\n",
        "  if(y and x >= 0):\n",
        "        # sr = int(math.sqrt(x))\n",
        "        return ((y*x))\n",
        "  return false\n",
        "\n",
        "p = y * x\n",
        "\n",
        "if (isPerfectSquare(p)):\n",
        "    print(\"Yes\")\n",
        "else:\n",
        "    print(\"No\")\n"
      ],
      "metadata": {
        "colab": {
          "base_uri": "https://localhost:8080/",
          "height": 262
        },
        "id": "6dF5Yz0C3MGz",
        "outputId": "fb63921c-1c88-4574-9ec3-0dcd48d9efd2"
      },
      "execution_count": null,
      "outputs": [
        {
          "name": "stdout",
          "output_type": "stream",
          "text": [
            "5 5\n"
          ]
        },
        {
          "output_type": "error",
          "ename": "TypeError",
          "evalue": "ignored",
          "traceback": [
            "\u001b[0;31m---------------------------------------------------------------------------\u001b[0m",
            "\u001b[0;31mTypeError\u001b[0m                                 Traceback (most recent call last)",
            "\u001b[0;32m<ipython-input-107-ddf3e833f679>\u001b[0m in \u001b[0;36m<cell line: 11>\u001b[0;34m()\u001b[0m\n\u001b[1;32m      9\u001b[0m \u001b[0mp\u001b[0m \u001b[0;34m=\u001b[0m \u001b[0my\u001b[0m \u001b[0;34m*\u001b[0m \u001b[0mx\u001b[0m\u001b[0;34m\u001b[0m\u001b[0;34m\u001b[0m\u001b[0m\n\u001b[1;32m     10\u001b[0m \u001b[0;34m\u001b[0m\u001b[0m\n\u001b[0;32m---> 11\u001b[0;31m \u001b[0;32mif\u001b[0m \u001b[0;34m(\u001b[0m\u001b[0misPerfectSquare\u001b[0m\u001b[0;34m(\u001b[0m\u001b[0mp\u001b[0m\u001b[0;34m)\u001b[0m\u001b[0;34m)\u001b[0m\u001b[0;34m:\u001b[0m\u001b[0;34m\u001b[0m\u001b[0;34m\u001b[0m\u001b[0m\n\u001b[0m\u001b[1;32m     12\u001b[0m     \u001b[0mprint\u001b[0m\u001b[0;34m(\u001b[0m\u001b[0;34m\"Yes\"\u001b[0m\u001b[0;34m)\u001b[0m\u001b[0;34m\u001b[0m\u001b[0;34m\u001b[0m\u001b[0m\n\u001b[1;32m     13\u001b[0m \u001b[0;32melse\u001b[0m\u001b[0;34m:\u001b[0m\u001b[0;34m\u001b[0m\u001b[0;34m\u001b[0m\u001b[0m\n",
            "\u001b[0;31mTypeError\u001b[0m: isPerfectSquare() missing 1 required positional argument: 'x'"
          ]
        }
      ]
    },
    {
      "cell_type": "code",
      "source": [
        "# 6\n",
        "a = int(input())\n",
        "b , c = map(int,input().split())\n",
        "if  b<=a<=c :\n",
        "  print('yes')\n",
        "else:\n",
        "  print(\"no\")"
      ],
      "metadata": {
        "colab": {
          "base_uri": "https://localhost:8080/"
        },
        "id": "mQnTe8a15qU7",
        "outputId": "5c8f00bd-e186-46b2-f883-00b766cec0ad"
      },
      "execution_count": null,
      "outputs": [
        {
          "output_type": "stream",
          "name": "stdout",
          "text": [
            "5\n",
            "7 2\n",
            "no\n"
          ]
        }
      ]
    },
    {
      "cell_type": "code",
      "source": [
        "def convert_string(s, conversion_type, p):\n",
        "    # Initialize an empty list to store the modified characters\n",
        "    modified_chars = []\n",
        "\n",
        "    # Iterate over the string using 1-based indexing\n",
        "    for i in range(1, len(s) + 1):\n",
        "        # Check if the current position is a multiple of P\n",
        "        if i % p == 0:\n",
        "            if conversion_type == 1:\n",
        "                # Convert to lowercase if the conversion type is 1\n",
        "                modified_chars.append(s[i-1].lower())\n",
        "            elif conversion_type == 2:\n",
        "                # Convert to uppercase if the conversion type is 2\n",
        "                modified_chars.append(s[i-1].upper())\n",
        "            else:\n",
        "                # If the conversion type is not recognized, keep the character as is\n",
        "                modified_chars.append(s[i-1])\n",
        "        else:\n",
        "            # If the position is not a multiple of P, keep the character as is\n",
        "            modified_chars.append(s[i-1])\n",
        "\n",
        "    # Join the list of modified characters into a new string\n",
        "    modified_string = ''.join(modified_chars)\n",
        "    return modified_string\n",
        "\n",
        "# Input from the user\n",
        "s = input(\"Enter the string S: \")\n",
        "t = int(input(\"Enter the type of conversion (1 - Lowercase, 2 - Uppercase): \"))\n",
        "p = int(input(\"Enter the integer P: \"))\n",
        "\n",
        "# Perform the conversion\n",
        "result = convert_string(s, t, p)\n",
        "\n",
        "# Output the result\n",
        "print(\"Modified string:\", result)"
      ],
      "metadata": {
        "colab": {
          "base_uri": "https://localhost:8080/"
        },
        "id": "TXsZwE2Tdgfw",
        "outputId": "b44b0be1-6670-4c89-cf0f-a48eec8847c5"
      },
      "execution_count": null,
      "outputs": [
        {
          "output_type": "stream",
          "name": "stdout",
          "text": [
            "Enter the string S: VINOPRAVIN\n",
            "Enter the type of conversion (1 - Lowercase, 2 - Uppercase): 1\n",
            "Enter the integer P: 14\n",
            "Modified string: VINOPRAVIN\n"
          ]
        }
      ]
    },
    {
      "cell_type": "code",
      "source": [
        "S = input()\n",
        "P = int(input())\n",
        "if P > 0 and P < 3:\n",
        "    if P == 1:\n",
        "        print(S.lower())\n",
        "    else :\n",
        "        print(S.upper())"
      ],
      "metadata": {
        "colab": {
          "base_uri": "https://localhost:8080/"
        },
        "id": "xdFT-XwCWIFa",
        "outputId": "68a43c96-34d2-4ef3-e9bd-137519e5dd2a"
      },
      "execution_count": null,
      "outputs": [
        {
          "output_type": "stream",
          "name": "stdout",
          "text": [
            "lowe\n",
            "2\n",
            "LOWE\n"
          ]
        }
      ]
    },
    {
      "cell_type": "markdown",
      "source": [
        " Jennyfer is fond of strings. She wants to read the character from right to left (reverse the string), so she wants you to design a suitable algorithm which satisfy her desire.\n",
        "\n",
        "Input Description:\n",
        "Enter the string ‘s’\n",
        "\n",
        "Output Description:\n",
        "Print the string from characters right to left.\n",
        "\n",
        "Sample Input :\n",
        "jennyfer\n",
        "Sample Output :\n",
        "Refynnej"
      ],
      "metadata": {
        "id": "sLj1ZX_fxSB-"
      }
    },
    {
      "cell_type": "code",
      "source": [
        "#To read the character from right to left (reverse the string)\n",
        "# Input Description: Enter the string ‘s’\n",
        "# Output Description: Print the string from characters right to left.\n",
        "\n",
        "s = input()[::-1]\n",
        "print(s.capitalize())"
      ],
      "metadata": {
        "colab": {
          "base_uri": "https://localhost:8080/"
        },
        "id": "FaC_4jzAxQ0s",
        "outputId": "3dc89fb9-dc0c-4208-8f5c-7ca0074ad42f"
      },
      "execution_count": 10,
      "outputs": [
        {
          "output_type": "stream",
          "name": "stdout",
          "text": [
            "Vinodini\n",
            "Inidoniv\n"
          ]
        }
      ]
    },
    {
      "cell_type": "code",
      "source": [
        "#You are given two numbers. Your task is to multiply the two numbers and print the answer.\n",
        "#Input Description:  You are given two numbers ‘n’ and ‘m’.\n",
        "#Output Description: Print the multiplied answer\n",
        "\n",
        "x, y = list(map(int, input().split()))\n",
        "m= x*y\n",
        "print(m)"
      ],
      "metadata": {
        "colab": {
          "base_uri": "https://localhost:8080/"
        },
        "id": "0pkC00xPxQ4u",
        "outputId": "b7bbc481-f865-404b-e36f-f63eb6b94eec"
      },
      "execution_count": 11,
      "outputs": [
        {
          "output_type": "stream",
          "name": "stdout",
          "text": [
            "45678 6789\n",
            "310107942\n"
          ]
        }
      ]
    },
    {
      "cell_type": "code",
      "source": [],
      "metadata": {
        "id": "WZ42l-EfxQ8O"
      },
      "execution_count": null,
      "outputs": []
    }
  ]
}