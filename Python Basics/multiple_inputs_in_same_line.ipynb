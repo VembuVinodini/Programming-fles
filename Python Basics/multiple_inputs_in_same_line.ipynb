{
  "nbformat": 4,
  "nbformat_minor": 0,
  "metadata": {
    "colab": {
      "provenance": [],
      "authorship_tag": "ABX9TyMVIVzFmEp4vYGLcaJsmGTW"
    },
    "kernelspec": {
      "name": "python3",
      "display_name": "Python 3"
    },
    "language_info": {
      "name": "python"
    }
  },
  "cells": [
    {
      "cell_type": "code",
      "execution_count": 2,
      "metadata": {
        "colab": {
          "base_uri": "https://localhost:8080/"
        },
        "id": "EEHsX8FR2tfC",
        "outputId": "8feb0829-e9fa-4727-dee5-b43d25ec4ca0"
      },
      "outputs": [
        {
          "output_type": "stream",
          "name": "stdout",
          "text": [
            "12578 67894\n",
            "853970732\n"
          ]
        }
      ],
      "source": [
        "#You are given two numbers. Your task is to multiply the two numbers and print the answer.\n",
        "#Input Description:  You are given two numbers ‘n’ and ‘m’.\n",
        "#Output Description: Print the multiplied answer\n",
        "\n",
        "x, y = list(map(int, input().split()))\n",
        "m= x*y\n",
        "print(m)"
      ]
    }
  ]
}