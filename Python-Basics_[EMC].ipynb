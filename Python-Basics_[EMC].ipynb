{
  "nbformat": 4,
  "nbformat_minor": 0,
  "metadata": {
    "colab": {
      "provenance": [],
      "authorship_tag": "ABX9TyPAXY1MOTDySsGqnZppopkP",
      "include_colab_link": true
    },
    "kernelspec": {
      "name": "python3",
      "display_name": "Python 3"
    },
    "language_info": {
      "name": "python"
    }
  },
  "cells": [
    {
      "cell_type": "markdown",
      "metadata": {
        "id": "view-in-github",
        "colab_type": "text"
      },
      "source": [
        "<a href=\"https://colab.research.google.com/github/VembuVinodini/Programming-fles/blob/main/Python-Basics_%5BEMC%5D.ipynb\" target=\"_parent\"><img src=\"https://colab.research.google.com/assets/colab-badge.svg\" alt=\"Open In Colab\"/></a>"
      ]
    },
    {
      "cell_type": "code",
      "execution_count": null,
      "metadata": {
        "colab": {
          "base_uri": "https://localhost:8080/"
        },
        "id": "OKcXs2TXnVDD",
        "outputId": "ef64405d-8e9a-4141-c3d3-5b1374c3099a"
      },
      "outputs": [
        {
          "output_type": "stream",
          "name": "stdout",
          "text": [
            "40\n"
          ]
        }
      ],
      "source": [
        "#casting  - to change one data type into another\n",
        "a = int('10')\n",
        "b = int('30')\n",
        "c = a+b\n",
        "print(c)"
      ]
    },
    {
      "cell_type": "code",
      "source": [
        "# to check palindrome\n",
        "s=input()\n",
        "p=s[::-1]\n",
        "if(s==p):\n",
        "    print(\"true\")\n",
        "else:\n",
        "    print(\"false\")"
      ],
      "metadata": {
        "colab": {
          "base_uri": "https://localhost:8080/"
        },
        "id": "aE_yXCVF_fol",
        "outputId": "cf27ca27-166a-4d1c-b810-c98100f9408d"
      },
      "execution_count": 2,
      "outputs": [
        {
          "output_type": "stream",
          "name": "stdout",
          "text": [
            "anu\n",
            "false\n"
          ]
        }
      ]
    },
    {
      "cell_type": "code",
      "source": [
        "# user input\n",
        "a = int(input())\n",
        "b = int(input())\n",
        "c = a+b\n",
        "print(c)"
      ],
      "metadata": {
        "colab": {
          "base_uri": "https://localhost:8080/"
        },
        "id": "Gk9rOAFfnyB0",
        "outputId": "1ef11f5d-7ee2-4d27-95a0-975b88b129f3"
      },
      "execution_count": null,
      "outputs": [
        {
          "output_type": "stream",
          "name": "stdout",
          "text": [
            "234\n",
            "1\n",
            "235\n"
          ]
        }
      ]
    },
    {
      "cell_type": "code",
      "source": [
        "# input\n",
        "name= input()\n",
        "age = input()\n",
        "address=input()\n",
        "print(\"my name is :\",name)\n",
        "print(\"my age is :\",age)\n",
        "print(\"my address is :\",address)"
      ],
      "metadata": {
        "colab": {
          "base_uri": "https://localhost:8080/"
        },
        "id": "ZiIxkI0ZnyGZ",
        "outputId": "6c420fc5-2c65-46e5-c76c-d6c8b861d860"
      },
      "execution_count": null,
      "outputs": [
        {
          "output_type": "stream",
          "name": "stdout",
          "text": [
            "EMC\n",
            "1\n",
            "Pudhukottai\n",
            "my name is : EMC\n",
            "my age is : 1\n",
            "my address is : Pudhukottai\n"
          ]
        }
      ]
    },
    {
      "cell_type": "code",
      "source": [
        "# input with operators\n",
        "a = int(input())\n",
        "b = int(input())\n",
        "c = int(input())\n",
        "mul = (a*b*c)\n",
        "add = (a+b+c)\n",
        "div= (mul/add)\n",
        "print(\"multiplication value:\",mul)\n",
        "print(\"addition value:\",add)\n",
        "print(\"division value:\",div)"
      ],
      "metadata": {
        "colab": {
          "base_uri": "https://localhost:8080/"
        },
        "id": "bpRIO51ipDVp",
        "outputId": "52654fc9-2e91-4f29-8570-b0ee24e432ce"
      },
      "execution_count": null,
      "outputs": [
        {
          "output_type": "stream",
          "name": "stdout",
          "text": [
            "100\n",
            "20\n",
            "1\n",
            "multiplication value: 2000\n",
            "addition value: 121\n",
            "division value: 16.52892561983471\n"
          ]
        }
      ]
    },
    {
      "cell_type": "code",
      "source": [
        "# to get the details of student and score\n",
        "Name=input()\n",
        "score= int(input())\n",
        "dep = input()\n",
        "print(\"My name is :\",Name)\n",
        "print(\"My score is :\",score/10,\"/10\")\n",
        "print(\"My department is :\",dep)"
      ],
      "metadata": {
        "colab": {
          "base_uri": "https://localhost:8080/"
        },
        "id": "YGPOztgdpDZN",
        "outputId": "cc561a98-8338-4ec8-a92d-1e16fc67ddea"
      },
      "execution_count": null,
      "outputs": [
        {
          "output_type": "stream",
          "name": "stdout",
          "text": [
            "Vino\n",
            "99\n",
            "IT\n",
            "My name is : Vino\n",
            "My score is : 9.9 /10\n",
            "My department is : IT\n"
          ]
        }
      ]
    },
    {
      "cell_type": "code",
      "source": [
        "# to calculate how much petrol needed for vehicle\n",
        "km = int(input())\n",
        "petrol = km/30\n",
        "petrol"
      ],
      "metadata": {
        "colab": {
          "base_uri": "https://localhost:8080/"
        },
        "id": "vC9r03_E6gso",
        "outputId": "d60f9fad-5b34-43c6-95c7-e07139a5b8ea"
      },
      "execution_count": null,
      "outputs": [
        {
          "name": "stdout",
          "output_type": "stream",
          "text": [
            "150\n"
          ]
        },
        {
          "output_type": "execute_result",
          "data": {
            "text/plain": [
              "5.0"
            ]
          },
          "metadata": {},
          "execution_count": 40
        }
      ]
    },
    {
      "cell_type": "code",
      "source": [
        "# if else & boolean values\n",
        "if(True):                                 # if true is inside the if condition it ll print if\n",
        "  print('yes')\n",
        "else:\n",
        "  print('no')"
      ],
      "metadata": {
        "colab": {
          "base_uri": "https://localhost:8080/"
        },
        "id": "AYZknmKir_FW",
        "outputId": "63904101-8d28-4299-cd77-685b92e32288"
      },
      "execution_count": null,
      "outputs": [
        {
          "output_type": "stream",
          "name": "stdout",
          "text": [
            "yes\n"
          ]
        }
      ]
    },
    {
      "cell_type": "code",
      "source": [
        "# if else & boolean values\n",
        "if(False):       # if false is inside the if condition it ll print else\n",
        "  print('yes')\n",
        "else:\n",
        "  print('no')"
      ],
      "metadata": {
        "colab": {
          "base_uri": "https://localhost:8080/"
        },
        "id": "Er8z4FFor_IZ",
        "outputId": "5e68f7ac-96e0-4d79-8082-0b808126fa39"
      },
      "execution_count": null,
      "outputs": [
        {
          "output_type": "stream",
          "name": "stdout",
          "text": [
            "no\n"
          ]
        }
      ]
    },
    {
      "cell_type": "code",
      "source": [
        "if ('Vino'==\"Vino\"):     # no issue with the quotation\n",
        "  print('yes')\n",
        "else:\n",
        "  print('no')"
      ],
      "metadata": {
        "colab": {
          "base_uri": "https://localhost:8080/"
        },
        "id": "Gs11HZH8s2Fi",
        "outputId": "99e3a2ba-14ed-49a9-b473-69f1a9de993f"
      },
      "execution_count": null,
      "outputs": [
        {
          "output_type": "stream",
          "name": "stdout",
          "text": [
            "yes\n"
          ]
        }
      ]
    },
    {
      "cell_type": "code",
      "source": [
        "# if else\n",
        "vino = 'pravin'\n",
        "if (vino=='pravin'):\n",
        "  print('Drink')\n",
        "else:\n",
        "  print(\"Cake\")"
      ],
      "metadata": {
        "colab": {
          "base_uri": "https://localhost:8080/"
        },
        "id": "T04f2H7is2Is",
        "outputId": "fd6251e5-7a95-47c6-d61b-fe4515afbab9"
      },
      "execution_count": 1,
      "outputs": [
        {
          "output_type": "stream",
          "name": "stdout",
          "text": [
            "Drink\n"
          ]
        }
      ]
    },
    {
      "cell_type": "code",
      "source": [
        "# if else\n",
        "meghna = input(\"Enter value for maghna: \")\n",
        "if (meghna==\"died\"):\n",
        "  print('Surya weds priya')\n",
        "else :\n",
        "  print('meghna weds priya')"
      ],
      "metadata": {
        "colab": {
          "base_uri": "https://localhost:8080/"
        },
        "id": "aBvAS_Ots2L7",
        "outputId": "c83bc0eb-0d14-435e-d764-5a1318c2dac9"
      },
      "execution_count": null,
      "outputs": [
        {
          "output_type": "stream",
          "name": "stdout",
          "text": [
            "Enter value for maghna: died\n",
            "Surya weds priya\n"
          ]
        }
      ]
    },
    {
      "cell_type": "code",
      "source": [
        "marks = int(input())\n",
        "if (marks > 35):\n",
        "  print('pass')\n",
        "else:\n",
        "  print('fail')"
      ],
      "metadata": {
        "colab": {
          "base_uri": "https://localhost:8080/"
        },
        "id": "cRi81KGLv50G",
        "outputId": "a176a71e-b4eb-410e-ef0d-d3a17480040d"
      },
      "execution_count": null,
      "outputs": [
        {
          "output_type": "stream",
          "name": "stdout",
          "text": [
            "99\n",
            "pass\n"
          ]
        }
      ]
    },
    {
      "cell_type": "code",
      "source": [
        "income = int(input())\n",
        "if (income < 7000):\n",
        "  print('Eligible for schlorship')\n",
        "else :\n",
        "  print(' Not eligible for schlorship')\n"
      ],
      "metadata": {
        "colab": {
          "base_uri": "https://localhost:8080/"
        },
        "id": "8BoT9k_wv54S",
        "outputId": "cb7a1517-fec4-4ca6-f468-22c890fd427a"
      },
      "execution_count": null,
      "outputs": [
        {
          "output_type": "stream",
          "name": "stdout",
          "text": [
            "6000\n",
            "Eligible for schlorship\n"
          ]
        }
      ]
    },
    {
      "cell_type": "code",
      "source": [
        "# modulus\n",
        "a = int(input())\n",
        "if (a % 3  == 0 and a % 5 == 0 ):\n",
        "  print('Divisible by 3 and 5')\n",
        "else:\n",
        "  print('Not divisible by 3 and 5')"
      ],
      "metadata": {
        "colab": {
          "base_uri": "https://localhost:8080/"
        },
        "id": "Ik0tmHqaxYrv",
        "outputId": "e0c2c196-fe60-4dd7-cd44-b80e207e4e83"
      },
      "execution_count": null,
      "outputs": [
        {
          "output_type": "stream",
          "name": "stdout",
          "text": [
            "60\n",
            "Divisible by 3 and 5\n"
          ]
        }
      ]
    },
    {
      "cell_type": "code",
      "source": [
        "# even or odd\n",
        "num = int(input())\n",
        "if (num % 2 ==0 ):\n",
        "  print('Given number is even')\n",
        "else:\n",
        "  print('Given number is odd')"
      ],
      "metadata": {
        "colab": {
          "base_uri": "https://localhost:8080/"
        },
        "id": "F1z520zRxYvD",
        "outputId": "68126403-78af-45fc-c9c6-a43c9fdcc952"
      },
      "execution_count": null,
      "outputs": [
        {
          "output_type": "stream",
          "name": "stdout",
          "text": [
            "102030420\n",
            "Given number is even\n"
          ]
        }
      ]
    },
    {
      "cell_type": "code",
      "source": [
        "marks = int(input())\n",
        "if (marks < 35  ):\n",
        "  print(\"poor\")\n",
        "elif(35 < marks < 75 ):\n",
        "  print('average')\n",
        "else :\n",
        "  print('good')"
      ],
      "metadata": {
        "colab": {
          "base_uri": "https://localhost:8080/"
        },
        "id": "w-17LLnRxYzn",
        "outputId": "cfddbc26-b985-4753-b6be-2209f7a3fb36"
      },
      "execution_count": null,
      "outputs": [
        {
          "output_type": "stream",
          "name": "stdout",
          "text": [
            "20\n",
            "poor\n"
          ]
        }
      ]
    },
    {
      "cell_type": "code",
      "source": [
        "a = int(input(\"A:\"))\n",
        "b = int(input(\"B:\"))\n",
        "operation = input( \"add/sub/mul/div:\")\n",
        "if (operation == 'add') :\n",
        "  print(a+b)\n",
        "elif (operation == 'sub') :\n",
        "  print(a-b)\n",
        "elif (operation == 'mul') :\n",
        "  print(a*b)\n",
        "elif (operation == 'div') :\n",
        "  print(a/b)\n",
        "else :\n",
        "  print(\"Given opeartion is invalid\")"
      ],
      "metadata": {
        "id": "l86ya_57icmR",
        "colab": {
          "base_uri": "https://localhost:8080/"
        },
        "outputId": "e2a4fd6c-29d8-4f5a-f8f1-be6ac8739fa6"
      },
      "execution_count": null,
      "outputs": [
        {
          "output_type": "stream",
          "name": "stdout",
          "text": [
            "A:100\n",
            "B:99\n",
            "add/sub/mul/div:sub\n",
            "1\n"
          ]
        }
      ]
    },
    {
      "cell_type": "code",
      "source": [
        "score = int (input(\"enter the score percentage :\"))\n",
        "if (score>=70):\n",
        "  name = input (\"Enter your name \")\n",
        "  age = int (input(\"Enter your age \"))\n",
        "  print('You are eligible ')\n",
        "else :\n",
        "  print('You are not eligible')"
      ],
      "metadata": {
        "id": "uEzt0DOJicph",
        "colab": {
          "base_uri": "https://localhost:8080/"
        },
        "outputId": "ab37e95f-577c-4cc6-a8bf-322ec9d95fa3"
      },
      "execution_count": null,
      "outputs": [
        {
          "output_type": "stream",
          "name": "stdout",
          "text": [
            "enter the score percentage :99\n",
            "Enter your name VinoPravin'\n",
            "Enter your age 22\n",
            "You are eligible \n"
          ]
        }
      ]
    },
    {
      "cell_type": "code",
      "source": [
        "# Nested if\n",
        "salary = int(input (\"Enter your salary :\"))\n",
        "age = int(input(\"Enter your age \"))\n",
        "if (salary >= 20000 or age > 25):     # binary True - 1 false - 0 : and * , or +\n",
        "  loan=int(input(\"Loan amount : \"))\n",
        "  if (loan > 50000):                  # nested if\n",
        "    print('maximum loan amount is 50000')\n",
        "  else:\n",
        "    print(\"you are eligible for loan \")\n",
        "else:\n",
        "  print(\"you are not eligible for loan \")"
      ],
      "metadata": {
        "id": "HnYf9eN5icum",
        "colab": {
          "base_uri": "https://localhost:8080/"
        },
        "outputId": "1a96fe7e-7173-4bef-de4a-0868b605e56e"
      },
      "execution_count": null,
      "outputs": [
        {
          "output_type": "stream",
          "name": "stdout",
          "text": [
            "Enter your salary :900000\n",
            "Enter your age 10\n",
            "Loan amount : 40000\n",
            "you are eligible for loan \n"
          ]
        }
      ]
    },
    {
      "cell_type": "code",
      "source": [
        "a = int(input())\n",
        "b = int(input())\n",
        "c = int(input())\n",
        "d = int(input())\n",
        "e = int(input())\n",
        "\n",
        "average = (a+b+c+d+e)/5\n",
        "if (average < 35 ):\n",
        "  print(\"Additional classes required\")\n",
        "else :\n",
        "  print('Good to go ')"
      ],
      "metadata": {
        "colab": {
          "base_uri": "https://localhost:8080/"
        },
        "id": "VB4_QUQwr-m_",
        "outputId": "8f11aa26-6b0e-4d3c-dbe7-93ddaa293be0"
      },
      "execution_count": null,
      "outputs": [
        {
          "output_type": "stream",
          "name": "stdout",
          "text": [
            "45\n",
            "67\n",
            "34\n",
            "67\n",
            "87\n",
            "Good to go \n"
          ]
        }
      ]
    },
    {
      "cell_type": "code",
      "source": [
        "# for loop\n",
        "for i in \"apple\":\n",
        "  print(i)"
      ],
      "metadata": {
        "colab": {
          "base_uri": "https://localhost:8080/"
        },
        "id": "SCMCEnewr-sz",
        "outputId": "dca7ef79-e4cd-4cb5-d9f7-72ea9788a781"
      },
      "execution_count": null,
      "outputs": [
        {
          "output_type": "stream",
          "name": "stdout",
          "text": [
            "a\n",
            "p\n",
            "p\n",
            "l\n",
            "e\n"
          ]
        }
      ]
    },
    {
      "cell_type": "code",
      "source": [
        "for emc in range (4,9):   # n-1\n",
        "  print(emc)"
      ],
      "metadata": {
        "colab": {
          "base_uri": "https://localhost:8080/"
        },
        "id": "5daw3i_sr-yb",
        "outputId": "0d00b69d-5755-4bfb-e98c-b07f984aaaee"
      },
      "execution_count": null,
      "outputs": [
        {
          "output_type": "stream",
          "name": "stdout",
          "text": [
            "4\n",
            "5\n",
            "6\n",
            "7\n",
            "8\n"
          ]
        }
      ]
    },
    {
      "cell_type": "code",
      "source": [
        "# print 5 tables using for loop\n",
        "for v in range (1,16):\n",
        "  print(v,\"* 5 =\" , v*5)"
      ],
      "metadata": {
        "colab": {
          "base_uri": "https://localhost:8080/"
        },
        "id": "YIAKI0Hsr-2S",
        "outputId": "ce209e4f-1bf9-42c9-e6c2-dfd97451e65c"
      },
      "execution_count": null,
      "outputs": [
        {
          "output_type": "stream",
          "name": "stdout",
          "text": [
            "1 * 5 = 5\n",
            "2 * 5 = 10\n",
            "3 * 5 = 15\n",
            "4 * 5 = 20\n",
            "5 * 5 = 25\n",
            "6 * 5 = 30\n",
            "7 * 5 = 35\n",
            "8 * 5 = 40\n",
            "9 * 5 = 45\n",
            "10 * 5 = 50\n",
            "11 * 5 = 55\n",
            "12 * 5 = 60\n",
            "13 * 5 = 65\n",
            "14 * 5 = 70\n",
            "15 * 5 = 75\n"
          ]
        }
      ]
    },
    {
      "cell_type": "code",
      "source": [
        "a = int(input())\n",
        "b = int(input())\n",
        "for i in range (a,b):\n",
        "  print(i)"
      ],
      "metadata": {
        "id": "yrZQ1AGJNqQH",
        "colab": {
          "base_uri": "https://localhost:8080/"
        },
        "outputId": "d537c4b5-f9a6-49dd-ca12-db78ebcf8fb0"
      },
      "execution_count": null,
      "outputs": [
        {
          "output_type": "stream",
          "name": "stdout",
          "text": [
            "2\n",
            "15\n",
            "2\n",
            "3\n",
            "4\n",
            "5\n",
            "6\n",
            "7\n",
            "8\n",
            "9\n",
            "10\n",
            "11\n",
            "12\n",
            "13\n",
            "14\n"
          ]
        }
      ]
    },
    {
      "cell_type": "code",
      "source": [
        "for i in range(4,15):\n",
        "  if(i %2==0 ):\n",
        "    print(i)"
      ],
      "metadata": {
        "id": "3wJD6IZ860O3",
        "colab": {
          "base_uri": "https://localhost:8080/"
        },
        "outputId": "e2d10439-5c24-4a4f-bee5-28751396bea6"
      },
      "execution_count": null,
      "outputs": [
        {
          "output_type": "stream",
          "name": "stdout",
          "text": [
            "4\n",
            "6\n",
            "8\n",
            "10\n",
            "12\n",
            "14\n"
          ]
        }
      ]
    },
    {
      "cell_type": "code",
      "source": [
        "# to count number of even numbers from 1 to 10\n",
        "count = 0\n",
        "for i in range(1,11):\n",
        "  if(i %2==0 ):\n",
        "    count = count+1\n",
        "count"
      ],
      "metadata": {
        "id": "4XenG1E43guX",
        "colab": {
          "base_uri": "https://localhost:8080/"
        },
        "outputId": "6e12c6ee-746b-4535-c73c-d2d1fe11d110"
      },
      "execution_count": null,
      "outputs": [
        {
          "output_type": "execute_result",
          "data": {
            "text/plain": [
              "5"
            ]
          },
          "metadata": {},
          "execution_count": 20
        }
      ]
    },
    {
      "cell_type": "code",
      "source": [
        "# to count number of odd numbers from 1 to 10\n",
        "count = 0\n",
        "for i in range(1,15):\n",
        "  if(i %2==1 ):\n",
        "    count = count+1\n",
        "count"
      ],
      "metadata": {
        "colab": {
          "base_uri": "https://localhost:8080/"
        },
        "id": "BL3dGGCjgJ-g",
        "outputId": "8775d043-2190-4206-e587-ce6a29c7c44d"
      },
      "execution_count": null,
      "outputs": [
        {
          "output_type": "execute_result",
          "data": {
            "text/plain": [
              "7"
            ]
          },
          "metadata": {},
          "execution_count": 1
        }
      ]
    },
    {
      "cell_type": "code",
      "source": [
        "#another way of doing this\n",
        "e_count=0\n",
        "o_count=0\n",
        "for i in range (1,16):\n",
        "  if (i%2==0):\n",
        "    e_count=e_count+1\n",
        "  else :\n",
        "    o_count=o_count+1\n",
        "print(e_count)\n",
        "print(o_count)"
      ],
      "metadata": {
        "colab": {
          "base_uri": "https://localhost:8080/"
        },
        "id": "0n7k0EivgKDB",
        "outputId": "32b5d823-25a0-4857-f8a9-bd61c474388c"
      },
      "execution_count": null,
      "outputs": [
        {
          "output_type": "stream",
          "name": "stdout",
          "text": [
            "7\n",
            "8\n"
          ]
        }
      ]
    },
    {
      "cell_type": "code",
      "source": [
        "# number divisible by 3 and 5 range 1 to 100\n",
        "count = 0\n",
        "for n in range (1,101):\n",
        "  if (n % 3==0 and n%5 ==0):\n",
        "    count=count+1\n",
        "print(count)"
      ],
      "metadata": {
        "colab": {
          "base_uri": "https://localhost:8080/"
        },
        "id": "4OSxN9MtAtHA",
        "outputId": "cba7decd-e0ba-4d5a-ea4a-c27d2d7b9cde"
      },
      "execution_count": null,
      "outputs": [
        {
          "output_type": "stream",
          "name": "stdout",
          "text": [
            "6\n"
          ]
        }
      ]
    },
    {
      "cell_type": "code",
      "source": [
        "# find sum of first 5 natural numbers\n",
        "sum = 0\n",
        "for i in range (1,6):\n",
        "  sum = sum+i\n",
        "print(sum)"
      ],
      "metadata": {
        "colab": {
          "base_uri": "https://localhost:8080/"
        },
        "id": "QqGeplF7AtK_",
        "outputId": "dfeb175c-918e-47aa-fb40-01fbe6e6450a"
      },
      "execution_count": null,
      "outputs": [
        {
          "output_type": "stream",
          "name": "stdout",
          "text": [
            "15\n"
          ]
        }
      ]
    },
    {
      "cell_type": "code",
      "source": [
        "# get input for 10 numbers and find average\n",
        "vino= []\n",
        "print(\"Enter 10 numbers:  \")\n",
        "for i in range (10):\n",
        "  num = int(input(\"Enter num : \"+str(i+1 )))# casting i as str and +1 is just an index\n",
        "  vino.append(num)\n",
        "print(vino)\n",
        "\n",
        "sum = 0\n",
        "for i in vino:\n",
        "  sum = sum+i\n",
        "print(sum)"
      ],
      "metadata": {
        "colab": {
          "base_uri": "https://localhost:8080/"
        },
        "id": "btxjNNwrpS_i",
        "outputId": "1e8acb8a-f963-4a94-c5ad-c68186400b0f"
      },
      "execution_count": null,
      "outputs": [
        {
          "output_type": "stream",
          "name": "stdout",
          "text": [
            "Enter 10 numbers:  \n",
            "Enter num : 110\n",
            "Enter num : 220\n",
            "Enter num : 330\n",
            "Enter num : 440\n",
            "Enter num : 550\n",
            "Enter num : 660\n",
            "Enter num : 770\n",
            "Enter num : 880\n",
            "Enter num : 990\n",
            "Enter num : 10100\n",
            "[10, 20, 30, 40, 50, 60, 70, 80, 90, 100]\n",
            "550\n"
          ]
        }
      ]
    },
    {
      "cell_type": "code",
      "source": [
        " # print n terms of natural numbers\n",
        " a = int(input(\"Enter the number : \"))\n",
        " for i in range (1,a+1):\n",
        "  print(i)"
      ],
      "metadata": {
        "id": "hFoRI6dl1dAj",
        "colab": {
          "base_uri": "https://localhost:8080/"
        },
        "outputId": "7d9d8073-7d42-46e7-9325-f53b978b7806"
      },
      "execution_count": null,
      "outputs": [
        {
          "output_type": "stream",
          "name": "stdout",
          "text": [
            "Enter the number : 9\n",
            "1\n",
            "2\n",
            "3\n",
            "4\n",
            "5\n",
            "6\n",
            "7\n",
            "8\n",
            "9\n"
          ]
        }
      ]
    },
    {
      "cell_type": "code",
      "source": [
        " # print the cube of n terms of natural numbers\n",
        " a = int(input(\"Enter the number : \"))\n",
        " for i in range (1,(a+1)):\n",
        "  print(i**3)"
      ],
      "metadata": {
        "colab": {
          "base_uri": "https://localhost:8080/"
        },
        "id": "OtJFUsWQui50",
        "outputId": "286e7925-cea2-4a26-d896-cf9798ccc616"
      },
      "execution_count": null,
      "outputs": [
        {
          "output_type": "stream",
          "name": "stdout",
          "text": [
            "Enter the number : 5\n",
            "1\n",
            "8\n",
            "27\n",
            "64\n",
            "125\n"
          ]
        }
      ]
    },
    {
      "cell_type": "code",
      "source": [
        "# nested for loop\n",
        "for i in range (1,6):\n",
        "  for j in range (1,3):\n",
        "    print(j,'Apple')"
      ],
      "metadata": {
        "colab": {
          "base_uri": "https://localhost:8080/"
        },
        "id": "Mpf2bkCfui9p",
        "outputId": "f2473a7d-642e-46ea-d1bf-2576b0710b5a"
      },
      "execution_count": null,
      "outputs": [
        {
          "output_type": "stream",
          "name": "stdout",
          "text": [
            "1 Apple\n",
            "2 Apple\n",
            "1 Apple\n",
            "2 Apple\n",
            "1 Apple\n",
            "2 Apple\n",
            "1 Apple\n",
            "2 Apple\n",
            "1 Apple\n",
            "2 Apple\n"
          ]
        }
      ]
    },
    {
      "cell_type": "code",
      "source": [
        "for i in range (2,6):\n",
        "  for v in range (2,8):\n",
        "    print(i,\"VinoPravin\")"
      ],
      "metadata": {
        "colab": {
          "base_uri": "https://localhost:8080/"
        },
        "id": "hw-TBVCQujB8",
        "outputId": "2cdc6eeb-c7f2-4013-dfe2-827e49f3583f"
      },
      "execution_count": null,
      "outputs": [
        {
          "output_type": "stream",
          "name": "stdout",
          "text": [
            "2 VinoPravin\n",
            "2 VinoPravin\n",
            "2 VinoPravin\n",
            "2 VinoPravin\n",
            "2 VinoPravin\n",
            "2 VinoPravin\n",
            "3 VinoPravin\n",
            "3 VinoPravin\n",
            "3 VinoPravin\n",
            "3 VinoPravin\n",
            "3 VinoPravin\n",
            "3 VinoPravin\n",
            "4 VinoPravin\n",
            "4 VinoPravin\n",
            "4 VinoPravin\n",
            "4 VinoPravin\n",
            "4 VinoPravin\n",
            "4 VinoPravin\n",
            "5 VinoPravin\n",
            "5 VinoPravin\n",
            "5 VinoPravin\n",
            "5 VinoPravin\n",
            "5 VinoPravin\n",
            "5 VinoPravin\n"
          ]
        }
      ]
    },
    {
      "cell_type": "code",
      "source": [
        "for k in range (1,3):\n",
        "  print(\"Week \",k)\n",
        "  for i in range (1,5):\n",
        "    print(\"Day\",i)"
      ],
      "metadata": {
        "colab": {
          "base_uri": "https://localhost:8080/"
        },
        "id": "-m0ooXALujHG",
        "outputId": "b62f824e-47ca-45cc-ec04-02e97c46b56a"
      },
      "execution_count": null,
      "outputs": [
        {
          "output_type": "stream",
          "name": "stdout",
          "text": [
            "Week  1\n",
            "Day 1\n",
            "Day 2\n",
            "Day 3\n",
            "Day 4\n",
            "Week  2\n",
            "Day 1\n",
            "Day 2\n",
            "Day 3\n",
            "Day 4\n"
          ]
        }
      ]
    },
    {
      "cell_type": "code",
      "source": [
        "# end =\n",
        "for f in range (5):\n",
        "  print(\"*\",end=(\" \"))"
      ],
      "metadata": {
        "id": "kaLMHLpM1dEA",
        "colab": {
          "base_uri": "https://localhost:8080/"
        },
        "outputId": "b5ec73b6-fbcc-4eb4-afcb-462fecd1581a"
      },
      "execution_count": null,
      "outputs": [
        {
          "output_type": "stream",
          "name": "stdout",
          "text": [
            "* * * * * "
          ]
        }
      ]
    },
    {
      "cell_type": "code",
      "source": [
        "for i in range (1,11):\n",
        "  print(\"$\"*i)"
      ],
      "metadata": {
        "colab": {
          "base_uri": "https://localhost:8080/"
        },
        "id": "Ks2aK12vl1Yq",
        "outputId": "3582ba9f-9d3c-469c-e142-29b4d827618d"
      },
      "execution_count": null,
      "outputs": [
        {
          "output_type": "stream",
          "name": "stdout",
          "text": [
            "$\n",
            "$$\n",
            "$$$\n",
            "$$$$\n",
            "$$$$$\n",
            "$$$$$$\n",
            "$$$$$$$\n",
            "$$$$$$$$\n",
            "$$$$$$$$$\n",
            "$$$$$$$$$$\n"
          ]
        }
      ]
    },
    {
      "cell_type": "code",
      "source": [
        "# pattern\n",
        "for i in range (1,5):\n",
        "  print()     # if only print is there it ll go to next line ; there will be a gap in first line (empty)\n",
        "  for j in range(1 , i+1):\n",
        "    print(j,end=\"\")"
      ],
      "metadata": {
        "id": "X8k0R5l5Gqw3",
        "colab": {
          "base_uri": "https://localhost:8080/"
        },
        "outputId": "8db09496-0142-44fb-fcdf-43f5094d9fb8"
      },
      "execution_count": null,
      "outputs": [
        {
          "output_type": "stream",
          "name": "stdout",
          "text": [
            "\n",
            "1\n",
            "12\n",
            "123\n",
            "1234"
          ]
        }
      ]
    },
    {
      "cell_type": "code",
      "source": [
        "# pattern\n",
        "for i in range (1,5):\n",
        "  print()     # if only print is there it ll go to next line ; there will be a gap in first line (empty)\n",
        "  for j in range(1 , i+1):\n",
        "    print(\"*\",end=\"\")"
      ],
      "metadata": {
        "colab": {
          "base_uri": "https://localhost:8080/"
        },
        "id": "DVqYYPht8tIR",
        "outputId": "c29fa5b7-3b64-43c0-a234-d28a77d490aa"
      },
      "execution_count": null,
      "outputs": [
        {
          "output_type": "stream",
          "name": "stdout",
          "text": [
            "\n",
            "*\n",
            "**\n",
            "***\n",
            "****"
          ]
        }
      ]
    },
    {
      "cell_type": "code",
      "source": [
        "# While loop\n",
        "i = 0\n",
        "while(i==9):   # if while loop is true it will go to next line , if false nothing will get printed\n",
        "  print(\"vino\")\n",
        "  i = i +1        # only if there is condiyion the loop ll end , otherwise it ll run till infinity"
      ],
      "metadata": {
        "id": "yHhwGRfb8tRm"
      },
      "execution_count": null,
      "outputs": []
    },
    {
      "cell_type": "code",
      "source": [
        "i = 3\n",
        "while ( i <= 11):\n",
        "  print(\"DS\")\n",
        "  i = i+2"
      ],
      "metadata": {
        "colab": {
          "base_uri": "https://localhost:8080/"
        },
        "id": "VgIIn5NJaBvV",
        "outputId": "52b66bf3-c5b1-40ec-c265-2196ae7dc1d7"
      },
      "execution_count": null,
      "outputs": [
        {
          "output_type": "stream",
          "name": "stdout",
          "text": [
            "DS\n",
            "DS\n",
            "DS\n",
            "DS\n",
            "DS\n"
          ]
        }
      ]
    },
    {
      "cell_type": "code",
      "source": [
        "# print 10,20,30...200\n",
        "i = 10\n",
        "while ( i <= 200):\n",
        "  print(i,end=\" \")\n",
        "  i = i+10"
      ],
      "metadata": {
        "colab": {
          "base_uri": "https://localhost:8080/"
        },
        "id": "iOeFJeTjaB2H",
        "outputId": "13d24b4e-5642-4759-ecce-1cacd720f150"
      },
      "execution_count": null,
      "outputs": [
        {
          "output_type": "stream",
          "name": "stdout",
          "text": [
            "10 20 30 40 50 60 70 80 90 100 110 120 130 140 150 160 170 180 190 200 "
          ]
        }
      ]
    },
    {
      "cell_type": "code",
      "source": [
        "# Natural numbers in reverse order\n",
        "i = 10\n",
        "while ( i > 0):\n",
        "  print(i,end=\" \")\n",
        "  i = i-1"
      ],
      "metadata": {
        "colab": {
          "base_uri": "https://localhost:8080/"
        },
        "id": "JoEwJaiEgORY",
        "outputId": "33bc99e5-d3cf-443f-c701-0311e5dfc687"
      },
      "execution_count": null,
      "outputs": [
        {
          "output_type": "stream",
          "name": "stdout",
          "text": [
            "10 9 8 7 6 5 4 3 2 1 "
          ]
        }
      ]
    },
    {
      "cell_type": "code",
      "source": [
        "# Factorial   (imp)\n",
        "i = 3\n",
        "fact= 1\n",
        "while ( i > 0):\n",
        "  fact= fact * i # for factorial * shoud be used ( i = 3 , fact = 1 (3*1)= fact=3; i =2,fact=3 (3*2)=6 ; i = 1,fact=6 (6*1)= 6 .. then while = false)\n",
        "  i = i-1\n",
        "print(fact)"
      ],
      "metadata": {
        "colab": {
          "base_uri": "https://localhost:8080/"
        },
        "id": "Yyi7gvUUgOVq",
        "outputId": "05e45f5b-339f-4afc-bba4-c833a5f6bb26"
      },
      "execution_count": null,
      "outputs": [
        {
          "output_type": "stream",
          "name": "stdout",
          "text": [
            "6\n"
          ]
        }
      ]
    },
    {
      "cell_type": "code",
      "source": [
        "# collections\n",
        "# List\n",
        "a = [1,2,3,5,6,78,99]\n",
        "a.insert(0,11)\n",
        "a.append(\"Pravin\")\n",
        "a[1]= 12    # to replace\n",
        "a.pop (4)    # will delete the element in that respective index\n",
        "print(a[4])\n",
        "a"
      ],
      "metadata": {
        "colab": {
          "base_uri": "https://localhost:8080/"
        },
        "id": "vwbLZmNRgOZq",
        "outputId": "a6b80ff0-8e4e-49f6-b279-16964aabcea4"
      },
      "execution_count": null,
      "outputs": [
        {
          "output_type": "stream",
          "name": "stdout",
          "text": [
            "6\n"
          ]
        },
        {
          "output_type": "execute_result",
          "data": {
            "text/plain": [
              "[11, 12, 2, 3, 6, 78, 99, 'Pravin']"
            ]
          },
          "metadata": {},
          "execution_count": 36
        }
      ]
    },
    {
      "cell_type": "code",
      "source": [
        "a = [ 1,2,3,4,5,6]\n",
        "b = [7,8,9,12]\n",
        "a.extend(b)\n",
        "a"
      ],
      "metadata": {
        "colab": {
          "base_uri": "https://localhost:8080/"
        },
        "id": "DCAQRavukPDq",
        "outputId": "3668547a-aec8-445b-c331-9edd037cb230"
      },
      "execution_count": null,
      "outputs": [
        {
          "output_type": "execute_result",
          "data": {
            "text/plain": [
              "[1, 2, 3, 4, 5, 6, 7, 8, 9, 12]"
            ]
          },
          "metadata": {},
          "execution_count": 37
        }
      ]
    },
    {
      "cell_type": "code",
      "source": [
        "d = [ 12,45,67]\n",
        "a.append(d)     # append will add as it is ; extend will add only the elements\n",
        "a"
      ],
      "metadata": {
        "colab": {
          "base_uri": "https://localhost:8080/"
        },
        "id": "QD7ndgOAkPMB",
        "outputId": "b1eecf78-7638-4843-e87f-677dad1f541d"
      },
      "execution_count": null,
      "outputs": [
        {
          "output_type": "execute_result",
          "data": {
            "text/plain": [
              "[1, 2, 3, 4, 5, 6, 7, 8, 9, 12, [12, 45, 67]]"
            ]
          },
          "metadata": {},
          "execution_count": 44
        }
      ]
    },
    {
      "cell_type": "code",
      "source": [
        "#Tuple\n",
        "# tuple allows duplicates and ordered but not alterable (if u wanna add cast tuple into list and then alterable )\n",
        "#set - unordered (remove,update,pop)\n",
        "#Dictionary - keys are constant and dont allow duplicates,modifyable values (update,keys,values,pop,del,clear)"
      ],
      "metadata": {
        "id": "6oXFrBv9aCAE"
      },
      "execution_count": null,
      "outputs": []
    },
    {
      "cell_type": "code",
      "source": [
        "# Functions\n",
        "def painter ():\n",
        "  print(\"Painter\")\n",
        "\n",
        "painter()"
      ],
      "metadata": {
        "colab": {
          "base_uri": "https://localhost:8080/"
        },
        "id": "hE0BLoUw0CwS",
        "outputId": "dd5faf4b-745b-4b03-ca60-42eca3c6243d"
      },
      "execution_count": null,
      "outputs": [
        {
          "output_type": "stream",
          "name": "stdout",
          "text": [
            "Painter\n"
          ]
        }
      ]
    },
    {
      "cell_type": "code",
      "source": [
        "def add():\n",
        "  print(\"ADDITION\")\n",
        "  a = int(input(\"Enter a : \"))\n",
        "  b = int(input(\"Enter b : \"))\n",
        "  print(a+b)\n",
        "add()"
      ],
      "metadata": {
        "colab": {
          "base_uri": "https://localhost:8080/"
        },
        "id": "BT12rYGx0C0T",
        "outputId": "1bbb2b25-b5cc-4286-be08-40ff7d604315"
      },
      "execution_count": null,
      "outputs": [
        {
          "output_type": "stream",
          "name": "stdout",
          "text": [
            "ADDITION\n",
            "Enter a : 199\n",
            "Enter b : 1\n",
            "200\n"
          ]
        }
      ]
    },
    {
      "cell_type": "code",
      "source": [
        "def sub():\n",
        "  print(\"SUBRACTION\")\n",
        "  a = int(input(\"Enter a : \"))\n",
        "  b = int(input(\"Enter b : \"))\n",
        "  print(a-b)\n",
        "sub()"
      ],
      "metadata": {
        "colab": {
          "base_uri": "https://localhost:8080/"
        },
        "id": "OWnrOmnG2oYy",
        "outputId": "ec61df60-750a-4628-ac03-35236caa4318"
      },
      "execution_count": null,
      "outputs": [
        {
          "output_type": "stream",
          "name": "stdout",
          "text": [
            "SUBRACTION\n",
            "Enter a : 786\n",
            "Enter b : 0\n",
            "786\n"
          ]
        }
      ]
    },
    {
      "cell_type": "code",
      "source": [
        "def painter(msg):\n",
        "  print(\"You received a Message : \", msg)\n",
        "\n",
        "painter(\"paint my room\")"
      ],
      "metadata": {
        "colab": {
          "base_uri": "https://localhost:8080/"
        },
        "id": "Vancm9Kj2odF",
        "outputId": "12eca794-40a8-40f5-e2e5-4f223f588a80"
      },
      "execution_count": null,
      "outputs": [
        {
          "output_type": "stream",
          "name": "stdout",
          "text": [
            "You received a Message :  paint my room\n"
          ]
        }
      ]
    },
    {
      "cell_type": "code",
      "source": [
        "# to find even or odd\n",
        "def evenodd(num):\n",
        "  if num % 2 == 0:\n",
        "    print(num,\"The given num is even \")\n",
        "  else :\n",
        "    print(num ,\"The given num is odd\")\n",
        "\n",
        "# evenodd(88)\n",
        "evenodd(int(input(\"Enter a number: \")))"
      ],
      "metadata": {
        "colab": {
          "base_uri": "https://localhost:8080/"
        },
        "id": "see0O8pk2oht",
        "outputId": "9e430b72-2eff-4d84-e6a3-2da5bb34616d"
      },
      "execution_count": null,
      "outputs": [
        {
          "output_type": "stream",
          "name": "stdout",
          "text": [
            "Enter a number: 67\n",
            "67 The given num is odd\n"
          ]
        }
      ]
    },
    {
      "cell_type": "code",
      "source": [
        "# Pass or fail\n",
        "def passfail(marks):\n",
        "  if marks > 34 :\n",
        "    print(\"pass\")\n",
        "  else :\n",
        "    print(\"Fail\")\n",
        "num = int(input(\"Enter the marks: \"))\n",
        "passfail(num)"
      ],
      "metadata": {
        "colab": {
          "base_uri": "https://localhost:8080/"
        },
        "id": "2vn1r84v2olv",
        "outputId": "381397f3-4f63-4aca-831b-324a75f354c0"
      },
      "execution_count": null,
      "outputs": [
        {
          "output_type": "stream",
          "name": "stdout",
          "text": [
            "Enter the marks: 55\n",
            "pass\n"
          ]
        }
      ]
    },
    {
      "cell_type": "code",
      "source": [
        "# to get input from user and print range\n",
        "def printran(r1,r2):\n",
        "\n",
        "  for i in range(r1,r2):\n",
        "    print(i)\n",
        "a= int(input(\"Enter a : \"))\n",
        "b= int(input(\"Enter b : \"))\n",
        "printran(a,b)"
      ],
      "metadata": {
        "id": "OXaiJ0F-Bd5K",
        "colab": {
          "base_uri": "https://localhost:8080/"
        },
        "outputId": "43460aa3-5504-49ad-b293-0820774638e2"
      },
      "execution_count": null,
      "outputs": [
        {
          "output_type": "stream",
          "name": "stdout",
          "text": [
            "Enter a : 34\n",
            "Enter b : 40\n",
            "34\n",
            "35\n",
            "36\n",
            "37\n",
            "38\n",
            "39\n"
          ]
        }
      ]
    },
    {
      "cell_type": "code",
      "source": [
        "# Return fn\n",
        "def valueofa():\n",
        "  return 10\n",
        "\n",
        "a = valueofa()\n",
        "a"
      ],
      "metadata": {
        "id": "RPWPMCJBELlV",
        "colab": {
          "base_uri": "https://localhost:8080/"
        },
        "outputId": "1efc2728-c1c8-4574-ee6c-2938ae88f10c"
      },
      "execution_count": null,
      "outputs": [
        {
          "output_type": "execute_result",
          "data": {
            "text/plain": [
              "10"
            ]
          },
          "metadata": {},
          "execution_count": 1
        }
      ]
    },
    {
      "cell_type": "code",
      "source": [
        "s_username=\"EMC\"\n",
        "s_password = \"123\"\n",
        "\n",
        "uname= input(\"Enter uname: \")\n",
        "password = input(\"Enter password: \")\n",
        "\n",
        "def validate():\n",
        "  if (s_username==uname and s_password==password):\n",
        "    return True\n",
        "  else:\n",
        "    return False\n",
        "\n",
        "validate()"
      ],
      "metadata": {
        "id": "wCBUwCgNELpS",
        "colab": {
          "base_uri": "https://localhost:8080/"
        },
        "outputId": "71c662ba-4e01-4071-bd33-6718bf85effd"
      },
      "execution_count": null,
      "outputs": [
        {
          "name": "stdout",
          "output_type": "stream",
          "text": [
            "Enter uname: EMC\n",
            "Enter password: 123\n"
          ]
        },
        {
          "output_type": "execute_result",
          "data": {
            "text/plain": [
              "True"
            ]
          },
          "metadata": {},
          "execution_count": 2
        }
      ]
    },
    {
      "cell_type": "code",
      "source": [
        "def add(n1,n2):\n",
        "  return n1+n2\n",
        "\n",
        "a = int(input(\"Enter A: \"))\n",
        "b = int(input(\"Enter B: \"))\n",
        "c = int(input(\"Enter C: \"))\n",
        "\n",
        "added= add(a,b)\n",
        "output= added * c\n",
        "print(output)\n",
        "\n"
      ],
      "metadata": {
        "colab": {
          "base_uri": "https://localhost:8080/"
        },
        "id": "BWE3ibRM0lRD",
        "outputId": "d9e00eea-2dc2-4406-8a0e-8ec979b71570"
      },
      "execution_count": null,
      "outputs": [
        {
          "output_type": "stream",
          "name": "stdout",
          "text": [
            "Enter A: 30\n",
            "Enter B: 10\n",
            "Enter C: 50\n",
            "2000\n"
          ]
        }
      ]
    },
    {
      "cell_type": "code",
      "source": [
        "# Classes and objects\n",
        "class goa:\n",
        "  name = \"\"\n",
        "  drink = \"\"\n",
        "  def party(self):\n",
        "    print (\"Lets party\")\n",
        "  def beach(self):\n",
        "    print (\"Enjoying the beach\")\n",
        "\n",
        "ramesh= goa()\n",
        "suresh= goa()\n",
        "\n",
        "ramesh.party()\n",
        "suresh.beach()\n",
        "\n",
        "ramesh.name = \"Ramesh\"\n",
        "suresh.name = \"Suresh\"\n",
        "\n",
        "ramesh.drink=\"Yes\"\n",
        "suresh.drink=\"No\"\n",
        "print(\"Ramesh drink: \",ramesh.drink)\n",
        "print(\"Suresh.drink: \",suresh.drink)"
      ],
      "metadata": {
        "colab": {
          "base_uri": "https://localhost:8080/"
        },
        "id": "sHAja57j0lVg",
        "outputId": "4d5c9cd8-3896-4a62-f786-88d1b314d435"
      },
      "execution_count": null,
      "outputs": [
        {
          "output_type": "stream",
          "name": "stdout",
          "text": [
            "Lets party\n",
            "Enjoying the beach\n",
            "Ramesh drink:  Yes\n",
            "Suresh.drink:  No\n"
          ]
        }
      ]
    },
    {
      "cell_type": "code",
      "source": [
        "\n",
        "class laptop():\n",
        "  price = 0\n",
        "  proc=\"\"\n",
        "  ram =\"\"\n",
        "\n",
        "hp = laptop()\n",
        "dell = laptop()\n",
        "# LENOVO\n",
        "\n",
        "hp.price  = 50000\n",
        "hp.proc = \"i7\"\n",
        "hp.ram = \"16gb\"\n",
        "\n",
        "dell.price  = 80000\n",
        "dell.proc = \"i9\"\n",
        "dell.ram = \"16gb\"\n",
        "\n",
        "print(hp.price)\n",
        "print(dell.price)"
      ],
      "metadata": {
        "id": "fBCeQhRF0lbv",
        "colab": {
          "base_uri": "https://localhost:8080/"
        },
        "outputId": "39806529-94b7-4af9-f992-c4423f6cc040"
      },
      "execution_count": null,
      "outputs": [
        {
          "output_type": "stream",
          "name": "stdout",
          "text": [
            "50000\n",
            "80000\n"
          ]
        }
      ]
    },
    {
      "cell_type": "code",
      "source": [
        "# __init__ -( a constructor is unique function that gets called automatically when an object is created of a class)\n",
        "class laptop:\n",
        "  def __init__ (self):\n",
        "    self.ram = \"\"\n",
        "    self.processor=\"\"\n",
        "  def display(self):\n",
        "    print(\"ram:\",self.ram)   # self - used to denote the current object- denoted as hp.ram\n",
        "    print(\"processor:\",self.processor)\n",
        "\n",
        "hp = laptop()   # this is object\n",
        "# hp.price= 50000\n",
        "hp.ram = \"8gb\"\n",
        "hp.processor = \"i5\"\n",
        "hp.display()  # the process will run as hp.display(hp)"
      ],
      "metadata": {
        "id": "0CZYnCDa0lgO",
        "colab": {
          "base_uri": "https://localhost:8080/"
        },
        "outputId": "f4e4e96b-ac9b-42be-c0c1-01692dd90b00"
      },
      "execution_count": null,
      "outputs": [
        {
          "output_type": "stream",
          "name": "stdout",
          "text": [
            "ram: 8gb\n",
            "processor: i5\n"
          ]
        }
      ]
    },
    {
      "cell_type": "code",
      "source": [
        "# to get the details of the student using variable name and reg no using constructor\n",
        "class  student:\n",
        "  def __init__ (self):\n",
        "    self.name=input()\n",
        "    self.regnum=int(input())\n",
        "  def display (self):\n",
        "    print(\"name:\",self.name)\n",
        "    print(\"registerNumber:\",self.regnum)\n",
        "\n",
        "S1 = student()\n",
        "S2 = student()   # this will create an object\n",
        "# print (S1.name)\n",
        "# print(S1.regnum)\n",
        "S1.display()\n",
        "S2.display()\n"
      ],
      "metadata": {
        "id": "hrno61nwcKzp",
        "colab": {
          "base_uri": "https://localhost:8080/"
        },
        "outputId": "fe3a90b7-87c7-4184-be3d-74a989624ae5"
      },
      "execution_count": null,
      "outputs": [
        {
          "output_type": "stream",
          "name": "stdout",
          "text": [
            "Vino\n",
            "03\n",
            "Pravin\n",
            "03\n",
            "name: Vino\n",
            "registerNumber: 3\n",
            "name: Pravin\n",
            "registerNumber: 3\n"
          ]
        }
      ]
    },
    {
      "cell_type": "code",
      "source": [
        "# print the color of the fruit , get the color variable as a parameter\n",
        "class fruit:\n",
        "  def __init__(self,col):  # color will save the input given by the user and then the function will be called (col)\n",
        "    self.color = col\n",
        "    # abc = self.color\n",
        "apple = fruit(input())     # apple is object, color is a variable\n",
        "print(\"The color of the fruit is\",apple.color)"
      ],
      "metadata": {
        "id": "hcSBwbxzcK4I",
        "colab": {
          "base_uri": "https://localhost:8080/"
        },
        "outputId": "d517403a-a1eb-45e2-cb61-e542b94b713a"
      },
      "execution_count": null,
      "outputs": [
        {
          "output_type": "stream",
          "name": "stdout",
          "text": [
            "Blue\n",
            "The color of the fruit is Blue\n"
          ]
        }
      ]
    },
    {
      "cell_type": "code",
      "source": [
        "class teacher :\n",
        "  def __init__(self):\n",
        "    self.name = input(\"Name: \")\n",
        "    self.regnum= int(input(\"RegisterNumber: \"))\n",
        "  def display(self):\n",
        "    print(self.name)\n",
        "    print(self.regnum)\n",
        "\n",
        "T1= teacher()\n",
        "T2= teacher()\n",
        "\n",
        "print(T1.display())\n",
        "print(T2.display())"
      ],
      "metadata": {
        "id": "AJrOZSiHcK8y",
        "colab": {
          "base_uri": "https://localhost:8080/"
        },
        "outputId": "093f084e-8541-4084-d7ba-30f74cfdd194"
      },
      "execution_count": null,
      "outputs": [
        {
          "output_type": "stream",
          "name": "stdout",
          "text": [
            "Name: Vino\n",
            "RegisterNumber: 23\n",
            "Name: Pravin\n",
            "RegisterNumber: 25\n",
            "Vino\n",
            "23\n",
            "None\n",
            "Pravin\n",
            "25\n",
            "None\n"
          ]
        }
      ]
    },
    {
      "cell_type": "code",
      "source": [
        "#another way of doing it\n",
        "class teacher() :\n",
        "  def __init__(self,name,reg):\n",
        "    self.name = name\n",
        "    self.regnum= reg\n",
        "  def display(self):\n",
        "    print(self.name)\n",
        "    print(self.regnum)\n",
        "\n",
        "T1= teacher(input(\"Name: \"),int(input(\"RegisterNumber: \")))   # instead of getting input u can directly give the parameter here\n",
        "T2= teacher(input(\"Name: \"),int(input(\"RegisterNumber: \")))\n",
        "\n",
        "T1.display()\n",
        "T2.display()"
      ],
      "metadata": {
        "colab": {
          "base_uri": "https://localhost:8080/"
        },
        "id": "7pytaqPUOn0Z",
        "outputId": "a96b4fec-0768-4db2-95af-8ccb53ee5cac"
      },
      "execution_count": null,
      "outputs": [
        {
          "output_type": "stream",
          "name": "stdout",
          "text": [
            "Name: Vino\n",
            "RegisterNumber: 23\n",
            "Name: Pravin\n",
            "RegisterNumber: 25\n",
            "Vino\n",
            "23\n",
            "Pravin\n",
            "25\n"
          ]
        }
      ]
    },
    {
      "cell_type": "code",
      "source": [
        "class calculator() :\n",
        "  def __init__(self,n1,n2):\n",
        "    self.num1=n1\n",
        "    self.num2 = n2\n",
        "  def sum(self):\n",
        "    print(self.num1+self.num2)    # n1&n2 are the variable belongs to init fn so if we use n1&n2 here the variable will not be defined\n",
        "  def sub(self):\n",
        "    print(self.num1-self.num2)\n",
        "  def mul(self):\n",
        "    print(self.num1*self.num2)\n",
        "  def div(self):\n",
        "    print(self.num1/self.num2)\n",
        "\n",
        "operation = calculator(10,100)\n",
        "operation.div()"
      ],
      "metadata": {
        "colab": {
          "base_uri": "https://localhost:8080/"
        },
        "id": "t1u-uasGOn5I",
        "outputId": "dee1509c-5367-4847-b587-0fff19e89eea"
      },
      "execution_count": null,
      "outputs": [
        {
          "output_type": "stream",
          "name": "stdout",
          "text": [
            "0.1\n"
          ]
        }
      ]
    },
    {
      "cell_type": "code",
      "source": [
        "# self.______ ---> these are instantance variable\n",
        "class phone():\n",
        "  def __init__(self,brand,price,chargerType):    # init is a constructor\n",
        "    self.brand = brand         # self.brand - instantance variable\n",
        "    self.price = price         # self.price - instantance variable\n",
        "    self.charger=chargerType   # self.charger - instantance variable\n",
        "  def display(self):\n",
        "    print(\"Brand: \",self.brand)\n",
        "    print(\"price: \",self.price)\n",
        "    print(\"Charger: \",self.charger)\n",
        "\n",
        "samsung=phone(\"Samsung\",\"15000\",\"B-TYPE\")\n",
        "vivo = phone(\"Vivo\",\"20000\",\"C-Type\")\n",
        "vivo.display()\n",
        "print()   # to print  empty line\n",
        "samsung.display()"
      ],
      "metadata": {
        "colab": {
          "base_uri": "https://localhost:8080/"
        },
        "id": "H55JIipGOn-h",
        "outputId": "37d0c2b2-a02c-4636-88f8-c5bea7d8727c"
      },
      "execution_count": null,
      "outputs": [
        {
          "output_type": "stream",
          "name": "stdout",
          "text": [
            "Brand:  Vivo\n",
            "price:  20000\n",
            "Charger:  C-TYPE\n",
            "\n",
            "Brand:  Samsung\n",
            "price:  15000\n",
            "Charger:  C-TYPE\n"
          ]
        }
      ]
    },
    {
      "cell_type": "code",
      "source": [
        "# if u wanna fix all the mobiles as c type  # CLASS VARIABLE\n",
        "class phone():\n",
        "  chargerType = \"C-TYPE\"   - #if the variable remains same for all the  object --> its class variable\n",
        "  def __init__(self,brand,price):    # init is a constructor\n",
        "    self.brand = brand         # self.brand - instantance variable\n",
        "    self.price = price         # self.price - instantance variable\n",
        "\n",
        "  def display(self):\n",
        "    print(\"Brand: \",self.brand)\n",
        "    print(\"price: \",self.price)\n",
        "    print(\"ChargerType: \",self.chargerType)\n",
        "\n",
        "\n",
        "samsung=phone(\"Samsung\",\"15000\")\n",
        "vivo = phone(\"Vivo\",\"20000\")\n",
        "google = phone(\"Pixel\",\"50000\")\n",
        "vivo.display()\n",
        "print()   # to print  empty line\n",
        "samsung.display()\n",
        "print()\n",
        "google.display()"
      ],
      "metadata": {
        "id": "Jh0Q0UBmgOEa",
        "colab": {
          "base_uri": "https://localhost:8080/"
        },
        "outputId": "44c83991-659b-48a4-a4aa-cc239652e750"
      },
      "execution_count": null,
      "outputs": [
        {
          "output_type": "stream",
          "name": "stdout",
          "text": [
            "Brand:  Vivo\n",
            "price:  20000\n",
            "ChargerType:  C-TYPE\n",
            "\n",
            "Brand:  Samsung\n",
            "price:  15000\n",
            "ChargerType:  C-TYPE\n",
            "\n",
            "Brand:  Pixel\n",
            "price:  50000\n",
            "ChargerType:  C-TYPE\n"
          ]
        }
      ]
    },
    {
      "cell_type": "code",
      "source": [
        "# if u wanna fix all the mobiles as c type  - ANOTHER WAY\n",
        "class phone():\n",
        "  # chargerType = \"C-TYPE\"\n",
        "  def __init__(self,brand,price):    # init is a constructor\n",
        "    self.brand = brand         # self.brand - instantance variable\n",
        "    self.price = price\n",
        "    self.ChargerType = \"C-TYPE\"\n",
        "\n",
        "  def display(self):\n",
        "    print(\"Brand: \",self.brand)\n",
        "    print(\"price: \",self.price)\n",
        "    print(\"ChargerType: \",self.ChargerType)\n",
        "\n",
        "\n",
        "samsung=phone(\"Samsung\",\"15000\")\n",
        "vivo = phone(\"Vivo\",\"20000\")\n",
        "google = phone(\"Pixel\",\"50000\")\n",
        "vivo.display()\n",
        "print()   # to print  empty line\n",
        "samsung.display()\n",
        "print()\n",
        "google.display()"
      ],
      "metadata": {
        "colab": {
          "base_uri": "https://localhost:8080/"
        },
        "id": "p8M0G6SoZ7He",
        "outputId": "ce3dc143-8ce7-4bc6-9f02-d74493702a13"
      },
      "execution_count": null,
      "outputs": [
        {
          "output_type": "stream",
          "name": "stdout",
          "text": [
            "Brand:  Vivo\n",
            "price:  20000\n",
            "ChargerType:  C-TYPE\n",
            "\n",
            "Brand:  Samsung\n",
            "price:  15000\n",
            "ChargerType:  C-TYPE\n",
            "\n",
            "Brand:  Pixel\n",
            "price:  50000\n",
            "ChargerType:  C-TYPE\n"
          ]
        }
      ]
    },
    {
      "cell_type": "code",
      "source": [
        "# if u wanna change all mobile to Btype\n",
        "class phone():\n",
        "  ChargerType = \"C-TYPE\"\n",
        "  def __init__(self,brand,price):    # init is a constructor\n",
        "    self.brand = brand         # self.brand - instant variable\n",
        "    self.price = price\n",
        "\n",
        "  def display(self):\n",
        "    print(\"Brand: \",self.brand)\n",
        "    print(\"price: \",self.price)\n",
        "    print(\"ChargerType: \",self.ChargerType)\n",
        "\n",
        "phone.ChargerType = \"B-TYPE\"\n",
        "samsung=phone(\"Samsung\",\"15000\")\n",
        "vivo = phone(\"Vivo\",\"20000\")\n",
        "google = phone(\"Pixel\",\"50000\")\n",
        "vivo.display()\n",
        "print()   # to print  empty line\n",
        "samsung.display()\n",
        "print()\n",
        "google.display()"
      ],
      "metadata": {
        "colab": {
          "base_uri": "https://localhost:8080/"
        },
        "id": "aMlxugmiZ7M1",
        "outputId": "220e3fcd-fe3e-4c95-930d-fc77430607e3"
      },
      "execution_count": null,
      "outputs": [
        {
          "output_type": "stream",
          "name": "stdout",
          "text": [
            "Brand:  Vivo\n",
            "price:  20000\n",
            "ChargerType:  B-TYPE\n",
            "\n",
            "Brand:  Samsung\n",
            "price:  15000\n",
            "ChargerType:  B-TYPE\n",
            "\n",
            "Brand:  Pixel\n",
            "price:  50000\n",
            "ChargerType:  B-TYPE\n"
          ]
        }
      ]
    },
    {
      "cell_type": "code",
      "source": [
        "# TYPES OF CLASS FUNCTIONS/METHODS\n",
        "# instance method - if you use self.___ for all the fun. to access the value of the object\n",
        "class laptop():\n",
        "  chargertype = \"C-Type\"\n",
        "\n",
        "  def __init__(self):\n",
        "    self.brand=\"\"\n",
        "    self.price=100\n",
        "\n",
        "  def setprice(self,price):\n",
        "    self.price= price\n",
        "\n",
        "  def getprice(self):\n",
        "    print(self.price)\n",
        "\n",
        "hp = laptop()\n",
        "hp.setprice(20000)\n",
        "hp.getprice()"
      ],
      "metadata": {
        "colab": {
          "base_uri": "https://localhost:8080/"
        },
        "id": "tJqnu_AlZ7R_",
        "outputId": "eb538f41-f106-428d-acbf-277a4ca9e413"
      },
      "execution_count": null,
      "outputs": [
        {
          "output_type": "stream",
          "name": "stdout",
          "text": [
            "20000\n"
          ]
        }
      ]
    },
    {
      "cell_type": "code",
      "source": [
        "# TYPES OF CLASS FUNCTIONS/METHODS\n",
        "# Class method - if you access class variables for fun ( not used that much )\n",
        "class laptop():\n",
        "  chargertype = \"C-Type\"\n",
        "\n",
        "  def __init__(self):\n",
        "    self.brand=\"\"\n",
        "    self.price=100\n",
        "\n",
        "  def setprice(self,price):\n",
        "    self.price= price\n",
        "\n",
        "  def getprice(self):\n",
        "    print(self.price)\n",
        "\n",
        "  @classmethod #--->decorator\n",
        "  def changeChargerType(cls):  # cls - class key word\n",
        "    cls.chargertype = \"B-TYPE\"\n",
        "    print(\"Charger type changed \")\n",
        "\n",
        "\n",
        "\n",
        "hp = laptop()\n",
        "hp.setprice(20000)\n",
        "hp.getprice()\n",
        "\n",
        "laptop.changeChargerType()   # if u dont wanna give laptop for all the time use decorators - line 16 (or) give the class name as parameter"
      ],
      "metadata": {
        "colab": {
          "base_uri": "https://localhost:8080/"
        },
        "id": "9iIWH5KMfUoc",
        "outputId": "4bedb726-a017-40f4-850d-7d046ddbd617"
      },
      "execution_count": null,
      "outputs": [
        {
          "output_type": "stream",
          "name": "stdout",
          "text": [
            "20000\n",
            "Charger type changed \n"
          ]
        }
      ]
    },
    {
      "cell_type": "code",
      "source": [
        "# TYPES OF CLASS FUNCTIONS/METHODS\n",
        "# Static method - if you dont wanna use class variables / instance variable\n",
        "class laptop():\n",
        "  chargertype = \"C-Type\"\n",
        "\n",
        "  def __init__(self):\n",
        "    self.brand=\"\"\n",
        "    self.price=100\n",
        "\n",
        "  def setprice(self,price):\n",
        "    self.price= price\n",
        "\n",
        "  def getprice(self):\n",
        "    print(self.price)\n",
        "\n",
        "  @classmethod #--->decorator\n",
        "  def changeChargerType(cls):  # cls - class key word\n",
        "    cls.chargertype = \"B-TYPE\"\n",
        "    print(\"Charger type changed \")\n",
        "\n",
        "  @staticmethod     # ----> decorator\n",
        "  def info():\n",
        "    print(\"this is a class laptop\")\n",
        "\n",
        "hp = laptop()\n",
        "hp.setprice(20000)\n",
        "hp.getprice()\n",
        "\n",
        "laptop.changeChargerType()\n",
        "hp.info()"
      ],
      "metadata": {
        "colab": {
          "base_uri": "https://localhost:8080/"
        },
        "id": "2xeEmr6ofUtE",
        "outputId": "b9b63894-670f-4629-e13e-6b9caa4513bd"
      },
      "execution_count": null,
      "outputs": [
        {
          "output_type": "stream",
          "name": "stdout",
          "text": [
            "20000\n",
            "Charger type changed \n",
            "this is a class laptop\n"
          ]
        }
      ]
    },
    {
      "cell_type": "code",
      "source": [
        "# INHERITANCE\n",
        "# single inhertance\n",
        "class dad():\n",
        "  def phone(self):\n",
        "    print(\"Daddy's phone\")\n",
        "\n",
        "class son(dad):    # if you insert dad as a parameter in son().. it will get linked\n",
        "  def laptop(self):\n",
        "    print(\"Son's lap\")\n",
        "\n",
        "ram = son()\n",
        "ram.laptop()\n",
        "ram.phone()\n",
        "# Ram.phone()"
      ],
      "metadata": {
        "colab": {
          "base_uri": "https://localhost:8080/"
        },
        "id": "X8Lb_OF1kHro",
        "outputId": "249e82b4-a253-4050-ae73-1b1e7d8e054d"
      },
      "execution_count": null,
      "outputs": [
        {
          "output_type": "stream",
          "name": "stdout",
          "text": [
            "Son's lap\n",
            "Daddy's phone\n"
          ]
        }
      ]
    },
    {
      "cell_type": "code",
      "source": [
        "# INHERITANCE\n",
        "#  multiple inhertance\n",
        "class dad():\n",
        "  def phone(self):\n",
        "    print(\"Daddy's phone\")\n",
        "\n",
        "class mom ():\n",
        "  def sweet(self):\n",
        "    print(\"Mom made sweet \")\n",
        "\n",
        "class son(dad,mom):    # if you insert dad as a parameter in son().. it will get linked\n",
        "  def laptop(self):\n",
        "    print(\"Son's lap\")\n",
        "\n",
        "ram = son()\n",
        "ram.laptop()\n",
        "ram.phone()\n",
        "ram.sweet()\n",
        "# Ram.phone()"
      ],
      "metadata": {
        "colab": {
          "base_uri": "https://localhost:8080/"
        },
        "id": "KsBdrAbJkHwo",
        "outputId": "688c1ee8-339f-4f71-ae92-ba9d23ca2e80"
      },
      "execution_count": null,
      "outputs": [
        {
          "output_type": "stream",
          "name": "stdout",
          "text": [
            "Son's lap\n",
            "Daddy's phone\n",
            "Mom made sweet \n"
          ]
        }
      ]
    },
    {
      "cell_type": "code",
      "source": [
        "# INHERITANCE\n",
        "#  multi level inhertance\n",
        "class grandpa():\n",
        "  def phone (self):\n",
        "    print(\"Grandpa's phone\")\n",
        "\n",
        "class dad(grandpa):\n",
        "  def money(self):\n",
        "    print(\"Dad has money\")\n",
        "\n",
        "class son(dad):\n",
        "  def laptop(self):\n",
        "    print(\"I have a laptop\")\n",
        "\n",
        "ram = son()\n",
        "sree = dad()\n",
        "ram.money()\n",
        "sree.phone()\n",
        "ram.phone()"
      ],
      "metadata": {
        "colab": {
          "base_uri": "https://localhost:8080/"
        },
        "id": "yDMfc7pznlwV",
        "outputId": "836dbc9a-bc88-4d27-8829-29e9f33bb01f"
      },
      "execution_count": null,
      "outputs": [
        {
          "output_type": "stream",
          "name": "stdout",
          "text": [
            "Dad has money\n",
            "Grandpa's phone\n",
            "Grandpa's phone\n"
          ]
        }
      ]
    },
    {
      "cell_type": "code",
      "source": [
        "# INHERITANCE\n",
        "# hierarchical inheritance\n",
        "class dad():\n",
        "  def attitude(self):\n",
        "    print(\"Positive\")\n",
        "class son(dad):\n",
        "  pass\n",
        "class son2(dad):\n",
        "  pass\n",
        "class son3(dad):\n",
        "  pass\n",
        "\n",
        "s2= son2()\n",
        "s2.attitude()"
      ],
      "metadata": {
        "colab": {
          "base_uri": "https://localhost:8080/"
        },
        "id": "iozETyv7nl2I",
        "outputId": "782bab6b-935b-4a06-ee6a-9948cf839463"
      },
      "execution_count": null,
      "outputs": [
        {
          "output_type": "stream",
          "name": "stdout",
          "text": [
            "Positive\n"
          ]
        }
      ]
    },
    {
      "cell_type": "code",
      "source": [
        "# INHERITANCE\n",
        "# hybrid inheritance  - single,mutiple,multi level and hierarchical all together\n",
        "class dad():\n",
        "  def attitude(self):\n",
        "    print(\"Positive\")\n",
        "\n",
        "class land():\n",
        "  def important(self):\n",
        "    print(\"important land\")\n",
        "\n",
        "class son1(dad,land):\n",
        "  pass\n",
        "class son2(son1):\n",
        "  pass\n",
        "class son3(son1):\n",
        "  pass\n",
        "\n",
        "s2= son2()\n",
        "s1= son1()\n",
        "s2.attitude()\n",
        "s2.important()"
      ],
      "metadata": {
        "colab": {
          "base_uri": "https://localhost:8080/"
        },
        "id": "2V4Cyi7Onl6l",
        "outputId": "98b86ce1-588d-468a-9cda-1558bd236c05"
      },
      "execution_count": null,
      "outputs": [
        {
          "output_type": "stream",
          "name": "stdout",
          "text": [
            "Positive\n",
            "important land\n"
          ]
        }
      ]
    },
    {
      "cell_type": "code",
      "source": [
        "# SUPER KEY WORD\n",
        "class a():\n",
        "  def __init__ (self):\n",
        "    print(\"A\")\n",
        "  def display(self):\n",
        "    print(\"you are in class A\")\n",
        "class b(a):    # inheriting a into b    # as u are inheriting the a into b with out b's constructor a's constructor is called\n",
        "  # def __init__ (self):\n",
        "  #   print(\"B\")\n",
        "  def display(self):\n",
        "    print(\"you are in class B\")\n",
        "\n",
        "obj = b()  # if a object created constructor will be called automatically"
      ],
      "metadata": {
        "colab": {
          "base_uri": "https://localhost:8080/"
        },
        "id": "6BpRkoxtnmAQ",
        "outputId": "ba2a6832-99f2-4cb3-8883-8add6c499922"
      },
      "execution_count": null,
      "outputs": [
        {
          "output_type": "stream",
          "name": "stdout",
          "text": [
            "A\n"
          ]
        }
      ]
    },
    {
      "cell_type": "code",
      "source": [
        "# SUPER KEY WORD\n",
        "class a():\n",
        "  def __init__ (self):\n",
        "    print(\"A\")\n",
        "  def display(self):\n",
        "    print(\"you are in class A\")\n",
        "class b(a):    # inheriting a into b    # as u are inheriting the a into b with out b's constructor a's constructor is called\n",
        "  def __init__ (self):\n",
        "    print(\"B\")           # as there is a constructor for b , it has been given preference\n",
        "  def display(self):\n",
        "    print(\"you are in class B\")\n",
        "\n",
        "obj = b()  # if a object created constructor will be called automatically"
      ],
      "metadata": {
        "colab": {
          "base_uri": "https://localhost:8080/"
        },
        "id": "t_Ua98x7xDkr",
        "outputId": "c0fa9753-f2d0-4deb-d00d-d321c7dada1c"
      },
      "execution_count": null,
      "outputs": [
        {
          "output_type": "stream",
          "name": "stdout",
          "text": [
            "B\n"
          ]
        }
      ]
    },
    {
      "cell_type": "code",
      "source": [
        "# SUPER KEY WORD - to call parents class\n",
        "class a():\n",
        "  def __init__ (self):\n",
        "    print(\"A\")\n",
        "  def display(self):\n",
        "    print(\"you are in class A\")\n",
        "class b(a):    # inheriting a into b    # as u are inheriting the a into b with out b's constructor a's constructor is called\n",
        "  def __init__ (self):\n",
        "    super().__init__()   # if you give super you can access the parent class\n",
        "    print(\"B\")           # as there is a constructor for b , it has been given preference\n",
        "  def display(self):\n",
        "    print(\"you are in class B\")\n",
        "\n",
        "obj = b()  # if a object created constructor will be called automatically"
      ],
      "metadata": {
        "colab": {
          "base_uri": "https://localhost:8080/"
        },
        "id": "cWpJOtzvnmFg",
        "outputId": "2937c496-10f9-4075-c016-21781b6f99b0"
      },
      "execution_count": null,
      "outputs": [
        {
          "output_type": "stream",
          "name": "stdout",
          "text": [
            "A\n",
            "B\n"
          ]
        }
      ]
    },
    {
      "cell_type": "code",
      "source": [
        "# SUPER KEY WORD - to call parents class\n",
        "class a():\n",
        "  def __init__ (self):\n",
        "    print(\"A\")\n",
        "  def display(self):\n",
        "    print(\"you are in class A\")\n",
        "class b():    # inheriting a into b    # as u are inheriting the a into b with out b's constructor a's constructor is called\n",
        "  def __init__ (self):\n",
        "    super().__init__()   # if you give super you can access the parent class\n",
        "    print(\"B\")           # as there is a constructor for b , it has been given preference\n",
        "  def display(self):\n",
        "    print(\"you are in class B\")\n",
        "\n",
        "class c(b,a):\n",
        "  def __init__ (self):\n",
        "    super().__init__()   # if u are using super for multiple inheritance , only the left class will taken as parent\n",
        "    print(\"C\")\n",
        "  def display(self):\n",
        "    print(\"you are in class C\")\n",
        "\n",
        "\n",
        "obj = c()  # if a object created constructor will be called automatically"
      ],
      "metadata": {
        "colab": {
          "base_uri": "https://localhost:8080/"
        },
        "id": "dpdchJhrwU_5",
        "outputId": "59477163-3066-4651-d4a1-7f1ff9fcffea"
      },
      "execution_count": null,
      "outputs": [
        {
          "output_type": "stream",
          "name": "stdout",
          "text": [
            "A\n",
            "B\n",
            "C\n"
          ]
        }
      ]
    },
    {
      "cell_type": "code",
      "source": [
        "#POLYMORPHISM\n",
        "def add (a,b,c=0):\n",
        "  print(a+b+c)\n",
        "(add(2,5))\n",
        "add(2,5,100)     # if there are 3 values c is the given value .. if there are 2 values c = 10 (i.e) given on the class = polymorphism"
      ],
      "metadata": {
        "colab": {
          "base_uri": "https://localhost:8080/"
        },
        "id": "_p1afzKPwVFM",
        "outputId": "37b766c2-c932-4196-c4f5-e6ed4eacfc35"
      },
      "execution_count": null,
      "outputs": [
        {
          "output_type": "stream",
          "name": "stdout",
          "text": [
            "7\n",
            "107\n"
          ]
        }
      ]
    },
    {
      "cell_type": "code",
      "source": [
        "#POLYMORPHISM\n",
        "# Overwriting method\n",
        "class animal():    # base class/ parent class\n",
        "  def sound(self):\n",
        "    print(\"animal makes sound\")\n",
        "\n",
        "class dog(animal):    # child class/ inherited class\n",
        "  def sound(self):\n",
        "    print(\"dog barks\")\n",
        "\n",
        "class birds(animal):\n",
        "  def sound(self):\n",
        "    print(\"Birds sing\")\n",
        "\n",
        "a1 = animal()\n",
        "d1 = dog()\n",
        "b1 = birds()\n",
        "a1.sound()\n",
        "d1.sound()\n",
        "b1.sound()"
      ],
      "metadata": {
        "colab": {
          "base_uri": "https://localhost:8080/"
        },
        "id": "z6XoTRJ5wVK_",
        "outputId": "08896c4f-98e2-4a7c-dcea-90f67946882e"
      },
      "execution_count": null,
      "outputs": [
        {
          "output_type": "stream",
          "name": "stdout",
          "text": [
            "animal makes sound\n",
            "dog barks\n",
            "Birds sing\n"
          ]
        }
      ]
    },
    {
      "cell_type": "code",
      "source": [
        "#\n",
        "class shape():\n",
        "  def area(self):\n",
        "    return 0\n",
        "\n",
        "class rectangle (shape):\n",
        "  def area(self):\n",
        "    l = 10\n",
        "    b = 20\n",
        "    print(l*b)       # derived class ...# shape class is derived by rectagle class\n",
        "s1= shape()\n",
        "r1 = rectangle()\n",
        "print(s1.area())\n",
        "r1.area()"
      ],
      "metadata": {
        "colab": {
          "base_uri": "https://localhost:8080/"
        },
        "id": "Z6LL6ENVwVQQ",
        "outputId": "15e2215c-7dd2-4c4e-fb65-4143c2296235"
      },
      "execution_count": null,
      "outputs": [
        {
          "output_type": "stream",
          "name": "stdout",
          "text": [
            "0\n",
            "200\n"
          ]
        }
      ]
    },
    {
      "cell_type": "code",
      "source": [
        "class person ():\n",
        "  def __init__(self,name):\n",
        "    self.name= name\n",
        "    print(self.name)\n",
        "\n",
        "class student():\n",
        "  def __init__(self,grade):\n",
        "    super().__init__()        # it will take the parent class arugument and current .\n",
        "    print(grade)\n",
        "\n",
        "p1= person(\"vino\")\n",
        "s1 = student(\"A\")\n"
      ],
      "metadata": {
        "colab": {
          "base_uri": "https://localhost:8080/"
        },
        "id": "KvMPbYCfwVbJ",
        "outputId": "83c5f074-0bd7-423d-fc61-dc051cb02a21"
      },
      "execution_count": null,
      "outputs": [
        {
          "output_type": "stream",
          "name": "stdout",
          "text": [
            "vino\n",
            "A\n"
          ]
        }
      ]
    },
    {
      "cell_type": "code",
      "source": [
        "# another way of doing it\n",
        "class person ():\n",
        "  def __init__(self,name):\n",
        "    self.name= name\n",
        "\n",
        "\n",
        "class student(person):\n",
        "  def __init__(self,name,grade):\n",
        "    super().__init__(name)        # it will take the parent class arugument and current .\n",
        "    self.grade=grade\n",
        "  def display(self):\n",
        "    print(self.name,self.grade)\n",
        "s1= student(\"vino\",\"A\")\n",
        "s1.display()"
      ],
      "metadata": {
        "id": "An96auwmwVgX",
        "colab": {
          "base_uri": "https://localhost:8080/"
        },
        "outputId": "8344dd24-db22-4de7-b771-821130418244"
      },
      "execution_count": null,
      "outputs": [
        {
          "output_type": "stream",
          "name": "stdout",
          "text": [
            "vino A\n"
          ]
        }
      ]
    },
    {
      "cell_type": "code",
      "source": [
        "class vehicle ():\n",
        "  def method(self):\n",
        "    print(\"Vehicle started\")\n",
        "\n",
        "class car(vehicle):\n",
        "  def start(self):\n",
        "    print(\"car started\")\n",
        "\n",
        "c1 = car()\n",
        "c1.method()"
      ],
      "metadata": {
        "colab": {
          "base_uri": "https://localhost:8080/"
        },
        "id": "BJpu7s0pCI4u",
        "outputId": "a63e0c9f-de02-49b0-f6ad-3ed14ae53300"
      },
      "execution_count": null,
      "outputs": [
        {
          "output_type": "stream",
          "name": "stdout",
          "text": [
            "Vehicle started\n"
          ]
        }
      ]
    },
    {
      "cell_type": "code",
      "source": [
        "class employee():\n",
        "  def __init__(self,name,salary):\n",
        "    self.name = name\n",
        "    self.salary = salary\n",
        "\n",
        "class manager():\n",
        "  def __init__ (self,name,salary,department):\n",
        "    super().__init__(name,salary)\n",
        "    self.department= department\n",
        "\n",
        "  def display(self):\n",
        "    print(self.name,self.salary,self.department)\n",
        "\n",
        "m1= manager(\"Vino\",100000,\"W\")\n",
        "m1.display()"
      ],
      "metadata": {
        "colab": {
          "base_uri": "https://localhost:8080/",
          "height": 350
        },
        "id": "TdFIrWDRCI_U",
        "outputId": "b32b2a85-dfe9-4d55-a6c5-5c044d5dda11"
      },
      "execution_count": null,
      "outputs": [
        {
          "output_type": "error",
          "ename": "TypeError",
          "evalue": "object.__init__() takes exactly one argument (the instance to initialize)",
          "traceback": [
            "\u001b[0;31m---------------------------------------------------------------------------\u001b[0m",
            "\u001b[0;31mTypeError\u001b[0m                                 Traceback (most recent call last)",
            "\u001b[0;32m<ipython-input-22-5186b8bb6d99>\u001b[0m in \u001b[0;36m<cell line: 14>\u001b[0;34m()\u001b[0m\n\u001b[1;32m     12\u001b[0m     \u001b[0mprint\u001b[0m\u001b[0;34m(\u001b[0m\u001b[0mself\u001b[0m\u001b[0;34m.\u001b[0m\u001b[0mname\u001b[0m\u001b[0;34m,\u001b[0m\u001b[0mself\u001b[0m\u001b[0;34m.\u001b[0m\u001b[0msalary\u001b[0m\u001b[0;34m,\u001b[0m\u001b[0mself\u001b[0m\u001b[0;34m.\u001b[0m\u001b[0mdepartment\u001b[0m\u001b[0;34m)\u001b[0m\u001b[0;34m\u001b[0m\u001b[0;34m\u001b[0m\u001b[0m\n\u001b[1;32m     13\u001b[0m \u001b[0;34m\u001b[0m\u001b[0m\n\u001b[0;32m---> 14\u001b[0;31m \u001b[0mm1\u001b[0m\u001b[0;34m=\u001b[0m \u001b[0mmanager\u001b[0m\u001b[0;34m(\u001b[0m\u001b[0;34m\"Vino\"\u001b[0m\u001b[0;34m,\u001b[0m\u001b[0;36m100000\u001b[0m\u001b[0;34m,\u001b[0m\u001b[0;34m\"W\"\u001b[0m\u001b[0;34m)\u001b[0m\u001b[0;34m\u001b[0m\u001b[0;34m\u001b[0m\u001b[0m\n\u001b[0m\u001b[1;32m     15\u001b[0m \u001b[0mm1\u001b[0m\u001b[0;34m.\u001b[0m\u001b[0mdisplay\u001b[0m\u001b[0;34m(\u001b[0m\u001b[0;34m)\u001b[0m\u001b[0;34m\u001b[0m\u001b[0;34m\u001b[0m\u001b[0m\n",
            "\u001b[0;32m<ipython-input-22-5186b8bb6d99>\u001b[0m in \u001b[0;36m__init__\u001b[0;34m(self, name, salary, department)\u001b[0m\n\u001b[1;32m      6\u001b[0m \u001b[0;32mclass\u001b[0m \u001b[0mmanager\u001b[0m\u001b[0;34m(\u001b[0m\u001b[0;34m)\u001b[0m\u001b[0;34m:\u001b[0m\u001b[0;34m\u001b[0m\u001b[0;34m\u001b[0m\u001b[0m\n\u001b[1;32m      7\u001b[0m   \u001b[0;32mdef\u001b[0m \u001b[0m__init__\u001b[0m \u001b[0;34m(\u001b[0m\u001b[0mself\u001b[0m\u001b[0;34m,\u001b[0m\u001b[0mname\u001b[0m\u001b[0;34m,\u001b[0m\u001b[0msalary\u001b[0m\u001b[0;34m,\u001b[0m\u001b[0mdepartment\u001b[0m\u001b[0;34m)\u001b[0m\u001b[0;34m:\u001b[0m\u001b[0;34m\u001b[0m\u001b[0;34m\u001b[0m\u001b[0m\n\u001b[0;32m----> 8\u001b[0;31m     \u001b[0msuper\u001b[0m\u001b[0;34m(\u001b[0m\u001b[0;34m)\u001b[0m\u001b[0;34m.\u001b[0m\u001b[0m__init__\u001b[0m\u001b[0;34m(\u001b[0m\u001b[0mname\u001b[0m\u001b[0;34m,\u001b[0m\u001b[0msalary\u001b[0m\u001b[0;34m)\u001b[0m\u001b[0;34m\u001b[0m\u001b[0;34m\u001b[0m\u001b[0m\n\u001b[0m\u001b[1;32m      9\u001b[0m     \u001b[0mself\u001b[0m\u001b[0;34m.\u001b[0m\u001b[0mdepartment\u001b[0m\u001b[0;34m=\u001b[0m \u001b[0mdepartment\u001b[0m\u001b[0;34m\u001b[0m\u001b[0;34m\u001b[0m\u001b[0m\n\u001b[1;32m     10\u001b[0m \u001b[0;34m\u001b[0m\u001b[0m\n",
            "\u001b[0;31mTypeError\u001b[0m: object.__init__() takes exactly one argument (the instance to initialize)"
          ]
        }
      ]
    },
    {
      "cell_type": "code",
      "source": [
        "# ENCAPSULATION - IMPORTANT TOPIC\n",
        "# any one can change the  name of the company.. if u dont wanna let others to change it see next cell\n",
        "class company():\n",
        "  def __init__(self):\n",
        "    self.Cname = \"Google\"\n",
        "\n",
        "c1 = company()\n",
        "c1.Cname = \"Gooooooogle\"\n",
        "print(c1.Cname)"
      ],
      "metadata": {
        "colab": {
          "base_uri": "https://localhost:8080/"
        },
        "id": "qgu0NmTmD8-C",
        "outputId": "3e825e98-c3ae-4376-9c3f-3e0349b9abad"
      },
      "execution_count": null,
      "outputs": [
        {
          "output_type": "stream",
          "name": "stdout",
          "text": [
            "Gooooooogle\n"
          ]
        }
      ]
    },
    {
      "cell_type": "code",
      "source": [
        "class company():\n",
        "  def __init__(self):\n",
        "    self.__Cname = \"Google\"  ##__Cname = private variable ... will be accessed only by calling class .. not using print fn\n",
        "\n",
        "  def Cname(self):                ## line 5 & 6(def Cname) will be public and class(company) will be private\n",
        "    print(self.__Cname)\n",
        "## _Cname = protector  (single underscore)\n",
        "\n",
        "c1 = company()\n",
        "# c1.Cname = \"Gooooooogle\"\n",
        "c1.Cname()"
      ],
      "metadata": {
        "colab": {
          "base_uri": "https://localhost:8080/"
        },
        "id": "o7Wdqb-4D9CS",
        "outputId": "50ec8623-893f-42ce-eca7-24690d114b43"
      },
      "execution_count": null,
      "outputs": [
        {
          "output_type": "stream",
          "name": "stdout",
          "text": [
            "Google\n"
          ]
        }
      ]
    },
    {
      "cell_type": "code",
      "source": [
        "# _Cname ---> protector\n",
        "class company():\n",
        "  def __init__(self):\n",
        "    self._Cname = \"Google\"\n",
        "\n",
        "  def Cname(self):\n",
        "    print(self._Cname)\n",
        "## _Cname = protector  (single underscore)\n",
        "\n",
        "c1 = company()\n",
        "print(c1._Cname)\n",
        "# c1.Cname()"
      ],
      "metadata": {
        "id": "noFaAt4WD9HU",
        "colab": {
          "base_uri": "https://localhost:8080/"
        },
        "outputId": "5bf1862e-bfad-4ec7-dd13-0cb7412eda3d"
      },
      "execution_count": null,
      "outputs": [
        {
          "output_type": "stream",
          "name": "stdout",
          "text": [
            "Google\n"
          ]
        }
      ]
    },
    {
      "cell_type": "code",
      "source": [
        "# protector can be accessed by child class also\n",
        "class company():\n",
        "  def __init__(self):\n",
        "    self._Cname = \"Google\"\n",
        "\n",
        "class b(company):\n",
        "  pass\n",
        "\n",
        "b1=b()\n",
        "b1._Cname"
      ],
      "metadata": {
        "colab": {
          "base_uri": "https://localhost:8080/",
          "height": 35
        },
        "id": "zDnn7uOqQf9B",
        "outputId": "10496a93-ffbd-415c-d798-9c25d4ed1bf9"
      },
      "execution_count": null,
      "outputs": [
        {
          "output_type": "execute_result",
          "data": {
            "text/plain": [
              "'Google'"
            ],
            "application/vnd.google.colaboratory.intrinsic+json": {
              "type": "string"
            }
          },
          "metadata": {},
          "execution_count": 5
        }
      ]
    },
    {
      "cell_type": "code",
      "source": [
        "# EXCEPTION HANDLING\n",
        "#Compiler error - name error,syntax error\n",
        "printt(\"hi\")"
      ],
      "metadata": {
        "id": "KOyk5GaMD9MK",
        "colab": {
          "base_uri": "https://localhost:8080/",
          "height": 211
        },
        "outputId": "4c78d6f1-44eb-4f5d-8269-4a668321204a"
      },
      "execution_count": null,
      "outputs": [
        {
          "output_type": "error",
          "ename": "NameError",
          "evalue": "name 'printt' is not defined",
          "traceback": [
            "\u001b[0;31m---------------------------------------------------------------------------\u001b[0m",
            "\u001b[0;31mNameError\u001b[0m                                 Traceback (most recent call last)",
            "\u001b[0;32m<ipython-input-6-ed7e50652625>\u001b[0m in \u001b[0;36m<cell line: 3>\u001b[0;34m()\u001b[0m\n\u001b[1;32m      1\u001b[0m \u001b[0;31m# EXCEPTION HANDLING\u001b[0m\u001b[0;34m\u001b[0m\u001b[0;34m\u001b[0m\u001b[0m\n\u001b[1;32m      2\u001b[0m \u001b[0;31m#Compiler error\u001b[0m\u001b[0;34m\u001b[0m\u001b[0;34m\u001b[0m\u001b[0m\n\u001b[0;32m----> 3\u001b[0;31m \u001b[0mprintt\u001b[0m\u001b[0;34m(\u001b[0m\u001b[0;34m\"hi\"\u001b[0m\u001b[0;34m)\u001b[0m\u001b[0;34m\u001b[0m\u001b[0;34m\u001b[0m\u001b[0m\n\u001b[0m",
            "\u001b[0;31mNameError\u001b[0m: name 'printt' is not defined"
          ]
        }
      ]
    },
    {
      "cell_type": "code",
      "source": [
        "#Logical error\n",
        "a = 10\n",
        "b = 30\n",
        "print(a+a)  # instead of a+b i gave a+a so its logical error"
      ],
      "metadata": {
        "id": "XxS6G68ZD9Qs",
        "colab": {
          "base_uri": "https://localhost:8080/"
        },
        "outputId": "56115a30-7cad-4ece-dc5a-8378e44c1b49"
      },
      "execution_count": null,
      "outputs": [
        {
          "output_type": "stream",
          "name": "stdout",
          "text": [
            "20\n"
          ]
        }
      ]
    },
    {
      "cell_type": "code",
      "source": [
        "# Run time error - compiler error\n",
        "a = int(input())\n",
        "b = int(input())\n",
        "print(a+b)"
      ],
      "metadata": {
        "id": "yA-kUTWcD9kb",
        "colab": {
          "base_uri": "https://localhost:8080/",
          "height": 263
        },
        "outputId": "9ef7b85f-057d-4b14-87e1-5fb6250cd722"
      },
      "execution_count": null,
      "outputs": [
        {
          "name": "stdout",
          "output_type": "stream",
          "text": [
            "34\n",
            "sf\n"
          ]
        },
        {
          "output_type": "error",
          "ename": "ValueError",
          "evalue": "invalid literal for int() with base 10: 'sf'",
          "traceback": [
            "\u001b[0;31m---------------------------------------------------------------------------\u001b[0m",
            "\u001b[0;31mValueError\u001b[0m                                Traceback (most recent call last)",
            "\u001b[0;32m<ipython-input-9-9d02693f960c>\u001b[0m in \u001b[0;36m<cell line: 3>\u001b[0;34m()\u001b[0m\n\u001b[1;32m      1\u001b[0m \u001b[0;31m# Run time error\u001b[0m\u001b[0;34m\u001b[0m\u001b[0;34m\u001b[0m\u001b[0m\n\u001b[1;32m      2\u001b[0m \u001b[0ma\u001b[0m \u001b[0;34m=\u001b[0m \u001b[0mint\u001b[0m\u001b[0;34m(\u001b[0m\u001b[0minput\u001b[0m\u001b[0;34m(\u001b[0m\u001b[0;34m)\u001b[0m\u001b[0;34m)\u001b[0m\u001b[0;34m\u001b[0m\u001b[0;34m\u001b[0m\u001b[0m\n\u001b[0;32m----> 3\u001b[0;31m \u001b[0mb\u001b[0m \u001b[0;34m=\u001b[0m \u001b[0mint\u001b[0m\u001b[0;34m(\u001b[0m\u001b[0minput\u001b[0m\u001b[0;34m(\u001b[0m\u001b[0;34m)\u001b[0m\u001b[0;34m)\u001b[0m\u001b[0;34m\u001b[0m\u001b[0;34m\u001b[0m\u001b[0m\n\u001b[0m\u001b[1;32m      4\u001b[0m \u001b[0mprint\u001b[0m\u001b[0;34m(\u001b[0m\u001b[0ma\u001b[0m\u001b[0;34m+\u001b[0m\u001b[0mb\u001b[0m\u001b[0;34m)\u001b[0m\u001b[0;34m\u001b[0m\u001b[0;34m\u001b[0m\u001b[0m\n",
            "\u001b[0;31mValueError\u001b[0m: invalid literal for int() with base 10: 'sf'"
          ]
        }
      ]
    },
    {
      "cell_type": "code",
      "source": [
        "## EXCEPTION HANDLING\n",
        "try:\n",
        "  a = int(input())\n",
        "  b = int(input())\n",
        "  print(a+b)\n",
        "except:\n",
        "  print(\"VinoPravin\")"
      ],
      "metadata": {
        "id": "rZ1C9JEgD9o_",
        "colab": {
          "base_uri": "https://localhost:8080/"
        },
        "outputId": "7f573378-fe04-480b-a185-71e0d84cf523"
      },
      "execution_count": null,
      "outputs": [
        {
          "output_type": "stream",
          "name": "stdout",
          "text": [
            "6\n",
            "g\n",
            "VinoPravin\n"
          ]
        }
      ]
    },
    {
      "cell_type": "code",
      "source": [
        "## EXCEPTION HANDLING\n",
        "try:\n",
        "  a = int(input())\n",
        "  b = int(input())\n",
        "  print(a+b)\n",
        "except exception as e:\n",
        "  print(\"VinoPravin\",e)"
      ],
      "metadata": {
        "colab": {
          "base_uri": "https://localhost:8080/",
          "height": 437
        },
        "id": "qn5tAEctSdjO",
        "outputId": "811187d0-83a9-4263-c550-42bc3fd24da5"
      },
      "execution_count": null,
      "outputs": [
        {
          "name": "stdout",
          "output_type": "stream",
          "text": [
            "7\n",
            "m\n"
          ]
        },
        {
          "output_type": "error",
          "ename": "NameError",
          "evalue": "name 'exception' is not defined",
          "traceback": [
            "\u001b[0;31m---------------------------------------------------------------------------\u001b[0m",
            "\u001b[0;31mValueError\u001b[0m                                Traceback (most recent call last)",
            "\u001b[0;32m<ipython-input-12-37e7846494d3>\u001b[0m in \u001b[0;36m<cell line: 2>\u001b[0;34m()\u001b[0m\n\u001b[1;32m      3\u001b[0m   \u001b[0ma\u001b[0m \u001b[0;34m=\u001b[0m \u001b[0mint\u001b[0m\u001b[0;34m(\u001b[0m\u001b[0minput\u001b[0m\u001b[0;34m(\u001b[0m\u001b[0;34m)\u001b[0m\u001b[0;34m)\u001b[0m\u001b[0;34m\u001b[0m\u001b[0;34m\u001b[0m\u001b[0m\n\u001b[0;32m----> 4\u001b[0;31m   \u001b[0mb\u001b[0m \u001b[0;34m=\u001b[0m \u001b[0mint\u001b[0m\u001b[0;34m(\u001b[0m\u001b[0minput\u001b[0m\u001b[0;34m(\u001b[0m\u001b[0;34m)\u001b[0m\u001b[0;34m)\u001b[0m\u001b[0;34m\u001b[0m\u001b[0;34m\u001b[0m\u001b[0m\n\u001b[0m\u001b[1;32m      5\u001b[0m   \u001b[0mprint\u001b[0m\u001b[0;34m(\u001b[0m\u001b[0ma\u001b[0m\u001b[0;34m+\u001b[0m\u001b[0mb\u001b[0m\u001b[0;34m)\u001b[0m\u001b[0;34m\u001b[0m\u001b[0;34m\u001b[0m\u001b[0m\n",
            "\u001b[0;31mValueError\u001b[0m: invalid literal for int() with base 10: 'm'",
            "\nDuring handling of the above exception, another exception occurred:\n",
            "\u001b[0;31mNameError\u001b[0m                                 Traceback (most recent call last)",
            "\u001b[0;32m<ipython-input-12-37e7846494d3>\u001b[0m in \u001b[0;36m<cell line: 2>\u001b[0;34m()\u001b[0m\n\u001b[1;32m      4\u001b[0m   \u001b[0mb\u001b[0m \u001b[0;34m=\u001b[0m \u001b[0mint\u001b[0m\u001b[0;34m(\u001b[0m\u001b[0minput\u001b[0m\u001b[0;34m(\u001b[0m\u001b[0;34m)\u001b[0m\u001b[0;34m)\u001b[0m\u001b[0;34m\u001b[0m\u001b[0;34m\u001b[0m\u001b[0m\n\u001b[1;32m      5\u001b[0m   \u001b[0mprint\u001b[0m\u001b[0;34m(\u001b[0m\u001b[0ma\u001b[0m\u001b[0;34m+\u001b[0m\u001b[0mb\u001b[0m\u001b[0;34m)\u001b[0m\u001b[0;34m\u001b[0m\u001b[0;34m\u001b[0m\u001b[0m\n\u001b[0;32m----> 6\u001b[0;31m \u001b[0;32mexcept\u001b[0m \u001b[0mexception\u001b[0m \u001b[0;32mas\u001b[0m \u001b[0me\u001b[0m\u001b[0;34m:\u001b[0m\u001b[0;34m\u001b[0m\u001b[0;34m\u001b[0m\u001b[0m\n\u001b[0m\u001b[1;32m      7\u001b[0m   \u001b[0mprint\u001b[0m\u001b[0;34m(\u001b[0m\u001b[0;34m\"VinoPravin\"\u001b[0m\u001b[0;34m,\u001b[0m\u001b[0me\u001b[0m\u001b[0;34m)\u001b[0m\u001b[0;34m\u001b[0m\u001b[0;34m\u001b[0m\u001b[0m\n",
            "\u001b[0;31mNameError\u001b[0m: name 'exception' is not defined"
          ]
        }
      ]
    },
    {
      "cell_type": "code",
      "source": [
        "## EXCEPTION HANDLING\n",
        "try:\n",
        "  a = int(input())\n",
        "  b = int(input())\n",
        "  c = input()\n",
        "  print(c/a)\n",
        "  print(d)        # as d is not determined it ll throw error ... and will be handled by exception\n",
        "except ValueError as e:          # this except will work only for value error\n",
        "  print(\"VinoPravin\",e)\n",
        "except TypeError as e :       # this except will work only for type error\n",
        "  print(\"ab\",e)\n",
        "except exception as e:    # this is a common exception if the error is not value/type error means this willl run\n",
        "  print(\"something wrong \")\n",
        "finally:    # finally will work after except . it will work even if there is an error in except\n",
        "  print(\"over\")"
      ],
      "metadata": {
        "colab": {
          "base_uri": "https://localhost:8080/"
        },
        "id": "q_sI8o4xSdoa",
        "outputId": "55cee52c-0d26-426f-d352-605f8bea5a20"
      },
      "execution_count": null,
      "outputs": [
        {
          "output_type": "stream",
          "name": "stdout",
          "text": [
            "565\n",
            "345\n",
            "tgt\n",
            "ab unsupported operand type(s) for /: 'str' and 'int'\n",
            "over\n"
          ]
        }
      ]
    },
    {
      "cell_type": "code",
      "source": [
        "## FILE HANDLING\n",
        "#"
      ],
      "metadata": {
        "id": "dQMX_iwySdtj"
      },
      "execution_count": null,
      "outputs": []
    },
    {
      "cell_type": "code",
      "source": [],
      "metadata": {
        "id": "tGhdr0QXSdyb"
      },
      "execution_count": null,
      "outputs": []
    },
    {
      "cell_type": "code",
      "source": [],
      "metadata": {
        "id": "Rb7QS035Sd26"
      },
      "execution_count": null,
      "outputs": []
    },
    {
      "cell_type": "code",
      "source": [],
      "metadata": {
        "id": "O3motChbSd7a"
      },
      "execution_count": null,
      "outputs": []
    },
    {
      "cell_type": "code",
      "source": [],
      "metadata": {
        "id": "gPKx7EyCSeAS"
      },
      "execution_count": null,
      "outputs": []
    },
    {
      "cell_type": "code",
      "source": [],
      "metadata": {
        "id": "hm8mKk9VSeGI"
      },
      "execution_count": null,
      "outputs": []
    },
    {
      "cell_type": "code",
      "source": [],
      "metadata": {
        "id": "_hAPJDaKwVlF"
      },
      "execution_count": null,
      "outputs": []
    },
    {
      "cell_type": "code",
      "source": [
        "N = int(input())\n",
        "# If given number is greater than 1\n",
        "if N > 1:\n",
        "\t# Iterate from 2 to n / 2\n",
        "\tfor i in range(2, int(N/2)+1):\n",
        "\t\t# If num is divisible by any number between\n",
        "\t\t# 2 and n / 2, it is not prime\n",
        "\t\tif (N % i) == 0:\n",
        "\t\t\tprint( \"yes\")\n",
        "\t\t\tbreak\n",
        "\telse:\n",
        "\t\tprint( \"no\")\n",
        "# else:\n",
        "# \tprint(num, \"is not a prime num\")\n"
      ],
      "metadata": {
        "colab": {
          "base_uri": "https://localhost:8080/"
        },
        "id": "jT5DEU-FjpPJ",
        "outputId": "4c4137af-3c4e-4267-df5d-2d1547493174"
      },
      "execution_count": null,
      "outputs": [
        {
          "output_type": "stream",
          "name": "stdout",
          "text": [
            "123\n",
            "yes\n"
          ]
        }
      ]
    },
    {
      "cell_type": "code",
      "source": [
        "n , m= input().split()\n",
        "N = int(n)\n",
        "M = int(m)\n",
        "add = N+M\n",
        "if add % 2 == 0 :\n",
        "  print(\"even\")\n",
        "else:\n",
        "  print(\"odd\")\n",
        "\n"
      ],
      "metadata": {
        "colab": {
          "base_uri": "https://localhost:8080/"
        },
        "id": "5pyOiLXQpCTB",
        "outputId": "338caa40-683f-4f66-a204-d3b53bea4a9d"
      },
      "execution_count": null,
      "outputs": [
        {
          "output_type": "stream",
          "name": "stdout",
          "text": [
            "9 2\n",
            "odd\n"
          ]
        }
      ]
    },
    {
      "cell_type": "code",
      "source": [
        "n = int(input())\n",
        "i = 1\n",
        "while i <= n:\n",
        "  i *= 2\n",
        "print(i)"
      ],
      "metadata": {
        "colab": {
          "base_uri": "https://localhost:8080/"
        },
        "id": "mnmlfqKY58Zy",
        "outputId": "56dbfab9-54cc-4c1a-c73c-8cdf133f962e"
      },
      "execution_count": null,
      "outputs": [
        {
          "output_type": "stream",
          "name": "stdout",
          "text": [
            "12\n",
            "16\n"
          ]
        }
      ]
    },
    {
      "cell_type": "code",
      "source": [
        "S = input().strip()\n",
        "D = len(S)//2\n",
        "\n",
        "if len(S)%2==0:\n",
        "\n",
        "     print(S[0:D-1]+\"**\"+S[D+1:])\n",
        "else:\n",
        "  print(S[0:D]+\"*\"+S[D+1:])"
      ],
      "metadata": {
        "colab": {
          "base_uri": "https://localhost:8080/"
        },
        "id": "ubCLzsolxMWZ",
        "outputId": "910d9b09-e8fa-4eff-8672-7844dea82fdb"
      },
      "execution_count": null,
      "outputs": [
        {
          "output_type": "stream",
          "name": "stdout",
          "text": [
            "vinopravin\n",
            "vino**avin\n"
          ]
        }
      ]
    },
    {
      "cell_type": "code",
      "source": [
        "def getSum(n):\n",
        "\n",
        "    sum = 0\n",
        "    for digit in str(n):\n",
        "      sum += int(digit)\n",
        "    return sum\n",
        "\n",
        "# n = 12345\n",
        "print(getSum(input()))"
      ],
      "metadata": {
        "id": "LtCIEHTpzLn7",
        "outputId": "03d7d3a2-06d8-4a33-ba8f-8d42e1026886",
        "colab": {
          "base_uri": "https://localhost:8080/"
        }
      },
      "execution_count": null,
      "outputs": [
        {
          "output_type": "stream",
          "name": "stdout",
          "text": [
            "124\n",
            "7\n"
          ]
        }
      ]
    },
    {
      "cell_type": "code",
      "source": [
        "K,L,M = input()\n",
        "print (ord(M)+ord(L)+ord(K))"
      ],
      "metadata": {
        "colab": {
          "base_uri": "https://localhost:8080/"
        },
        "id": "rpDQ39A1xXEG",
        "outputId": "403a683d-2177-4006-ced4-986809a31966"
      },
      "execution_count": null,
      "outputs": [
        {
          "output_type": "stream",
          "name": "stdout",
          "text": [
            "abc\n",
            "294\n"
          ]
        }
      ]
    }
  ]
}